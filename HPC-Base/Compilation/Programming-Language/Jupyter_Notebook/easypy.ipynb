








<!DOCTYPE html>
<html lang="en">

<head>
  <meta charset="utf-8">
  <title>Jupyter Notebook Viewer</title>
  <meta name="viewport" content="width=device-width, initial-scale=1.0">
  <meta name="description" content="">
  <meta name="author" content="">
  
  <meta name="robots" content="noindex,nofollow">
  

  <!--NEW RELIC Start Perf Measurement-->
  
  <!--NREND-->

  <!-- Le styles -->
  <link href="/static/build/styles.css?v=55ba354138253381d2c0ada9821cd4da" rel="stylesheet">

  <!-- Le HTML5 shim, for IE6-8 support of HTML5 elements -->
  <!--[if lt IE 9]>
    <script src="http://html5shim.googlecode.com/svn/trunk/html5.js"></script>
  <![endif]-->

  <!-- Le fav and touch icons -->
  <link rel="shortcut icon" href="/static/ico/ipynb_icon_16x16.png">
  <link rel="apple-touch-icon-precomposed" sizes="144x144"
        href="/static/ico/apple-touch-icon-144-precomposed.png?v=5a3c9ede93e2a8b8ea9e3f8f3da1a905">
  <link rel="apple-touch-icon-precomposed" sizes="114x114"
        href="/static/ico/apple-touch-icon-114-precomposed.png?v=45d86fc8f24dc00638035e1dd7a6d898">
  <link rel="apple-touch-icon-precomposed" sizes="72x72"
        href="/static/ico/apple-touch-icon-72-precomposed.png?v=540b5eb0f3cfd25f1439d1c9bd30e15f">
  <link rel="apple-touch-icon-precomposed"
        href="/static/ico/apple-touch-icon-57-precomposed.png?v=225f0590e187e1458625654f10a28f56">
  
  

  

  
  <meta name="twitter:card" content="summary">
  <meta name="twitter:title" content="Notebook on nbviewer">
  <meta name="twitter:description" content="Check out this Jupyter notebook!">

  
  <meta name="twitter:domain" content="nbviewer.jupyter.org">
  <meta name="twitter:image:src" content="http://ipython.org/ipython-doc/dev/_images/ipynb_icon_128x128.png">

  
  <!-- General and theme style sheets -->
  <link rel="stylesheet" href="/static/components/reveal.js/css/reveal.css?v=b15024b68c099e75d5ac51aa01dde827" />
  <link rel="stylesheet" href="/static/components/reveal.js/css/theme/simple.css?v=de4c62569d9d9e597e909f917e5d5d7f" id="theme" />

  <meta name="apple-mobile-web-app-capable" content="yes" />
  <meta name="apple-mobile-web-app-status-bar-style" content="black-translucent" />

  <meta name="viewport" content="width=device-width, initial-scale=1.0, maximum-scale=1.0, user-scalable=no, minimal-ui">

  <!-- Printing and PDF exports -->
  <script>
    var link = document.createElement('link');
    link.rel = 'stylesheet';
    link.type = 'text/css';
    link.href = '/static/components/reveal.js/css/print/' +
      (window.location.search.match(/print-pdf/gi) ? 'pdf' : 'paper') +
      ".css";
    document.getElementsByTagName('head')[0].appendChild(link);
  </script>

  <!--[if lt IE 9]>
    <script src="/static/components/reveal.js/lib/js/html5shiv.js?v=ff0e20a524223e4c3972e0d907e0877b"></script>
  <![endif]-->

  <link rel="stylesheet" href="/static/build/slides.css?v=84c35f42d44c751ddd61dd0da3361802" />


  

  
    <script src="https://cdnjs.cloudflare.com/ajax/libs/mathjax/2.7.1/MathJax.js?config=TeX-AMS_HTML" type="text/javascript">
    </script>
    <script type="text/javascript">
      init_mathjax = function() {
        if (window.MathJax) {
          // MathJax loaded
          MathJax.Hub.Config({
            TeX: {
              equationNumbers: {
                autoNumber: "AMS",
                useLabelIds: true
              }
            },
            tex2jax: {
              inlineMath: [ ['$','$'], ["\\(","\\)"] ],
              displayMath: [ ['$$','$$'], ["\\[","\\]"] ],
              processEscapes: true,
              processEnvironments: true
            },
            displayAlign: 'center',
            "HTML-CSS": {
              styles: {'.MathJax_Display': {"margin": 0}},
              linebreaks: { automatic: true }
            }
          });
          MathJax.Hub.Queue(["Typeset", MathJax.Hub]);
        }
      }
      init_mathjax();
    </script>
  

  
    <script>
      (function() {
        function addWidgetsRenderer() {
          var mimeElement = document.querySelector('script[type="application/vnd.jupyter.widget-view+json"]');
          var scriptElement = document.createElement('script');
          var widgetRendererSrc = 'https://unpkg.com/@jupyter-widgets/html-manager@0.15/dist/embed-amd.js';
          var widgetState;

          try {
            widgetState = mimeElement && JSON.parse(mimeElement.innerHTML);

            if (widgetState && (widgetState.version_major < 2 || !widgetState.version_major)) {
              widgetRendererSrc = 'https://unpkg.com/jupyter-js-widgets@2.1/dist/embed.js';
            }
          } catch(e) {}

          scriptElement.src = widgetRendererSrc;
          document.body.appendChild(scriptElement);
        }

        document.addEventListener('DOMContentLoaded', addWidgetsRenderer);
      }());
    </script>
  

</head>

<body class="nbviewer">

  <!-- These are loaded at the top of the body so they are available to
       notebook cells when they are loaded below. -->
  <script src="/static/components/jquery/dist/jquery.min.js?v=220afd743d9e9643852e31a135a9f3ae"></script>
  <script src="/static/components/requirejs/require.js?v=6da8be361b9ee26c5e721e76c6d4afce"></script>
  <script src="/static/components/moment/min/moment.min.js?v=89f87298ad94aa1e6b92f42eb66da043"></script>
<!-- Navbar
================================================== -->
  <nav id="menubar" class="navbar navbar-default navbar-fixed-top" data-spy="affix">
    <div class="container">
      <div class="navbar-header">
        <button type="button" class="navbar-toggle collapsed" data-toggle="collapse" data-target=".navbar-collapse">
          <span class="sr-only">Toggle navigation</span>
          <i class="fa fa-bars"></i>
        </button>
        <a class="navbar-brand" href="/">
          <img src="/static/img/nav_logo.svg?v=479cefe8d932fb14a67b93911b97d70f" width="159"/>
        </a>
      </div>

      <div class="collapse navbar-collapse">
        <ul class="nav navbar-nav navbar-right">
          <li>
            <a class="active" href="https://jupyter.org">JUPYTER</a>
          </li>
          <li>
    <a href="/faq" title="FAQ" >
      
        <span>FAQ</span>
      
    </a>
  </li>

          
  
    
      
        <li>
    <a href="/github/saadtony/chempy/blob/master/easypy.ipynb" title="View as Notebook" >
      <span class="fa fa-book fa-2x menu-icon"></span>
      <span class="menu-text">View as Notebook</span>
    </a>
  </li>
      
    
  
    
  
    
      
        <li>
    <a href="/format/script/github/saadtony/chempy/blob/master/easypy.ipynb" title="View as Code" >
      <span class="fa fa-code fa-2x menu-icon"></span>
      <span class="menu-text">View as Code</span>
    </a>
  </li>
      
    
  

  
    <li>
    <a href="#" title="Python 3 Kernel" >
      <span class="fa fa-server fa-2x menu-icon"></span>
      <span class="menu-text">Python 3 Kernel</span>
    </a>
  </li>
  

  
    <li>
    <a href="https://github.com/saadtony/chempy/blob/master/easypy.ipynb" title="View on GitHub" >
      <span class="fa fa-github fa-2x menu-icon"></span>
      <span class="menu-text">View on GitHub</span>
    </a>
  </li>
  

  
    <li>
    <a href="https://mybinder.org/v2/gh/saadtony/chempy/master?filepath=easypy.ipynb" title="Execute on Binder" >
      <span class="fa fa-icon-binder fa-2x menu-icon"></span>
      <span class="menu-text">Execute on Binder</span>
    </a>
  </li>
  

  <li>
    <a href="https://raw.githubusercontent.com/saadtony/chempy/master/easypy.ipynb" title="Download Notebook" download>
      <span class="fa fa-download fa-2x menu-icon"></span>
      <span class="menu-text">Download Notebook</span>
    </a>
  </li>

        </ul>
      </div><!-- /.navbar-collapse -->
      
  <div class="container">
  <ol class="breadcrumb">
    
      <li>
        <a href="/github/saadtony/chempy/tree/master">chempy</a>
      </li>
    
      <li>
        <a href="/github/saadtony/chempy/tree/master/easypy.ipynb">easypy.ipynb</a>
      </li>
    
  </ol>
  </div>

    </div>
  </nav>

  
    <div class="reveal">
  <div class="slides">
  <section><section>
<div class="cell border-box-sizing text_cell rendered"><div class="prompt input_prompt">
</div><div class="inner_cell">
<div class="text_cell_render border-box-sizing rendered_html">
<p><img src="ChemE_logo.png" alt="" title="ChemE Logo"></p>
<h1 id="Easy-Python">Easy Python<a class="anchor-link" href="#Easy-Python">&#182;</a></h1><p>by <a href="www.tonysaad.net">Tony Saad</a> <br/>
Assistant Professor of <a href="www.che.utah.edu">Chemical Engineering</a> <br/>
<a href="www.utah.edu">University of Utah</a></p>
<p>Please press the right arrow on your keyboard to proceed.</p>

</div>
</div>
</div></section></section><section><section>
<div class="cell border-box-sizing text_cell rendered"><div class="prompt input_prompt">
</div><div class="inner_cell">
<div class="text_cell_render border-box-sizing rendered_html">
<p>This is an easy guide for learning Python. In my opinion, you don't need more than this guide to get started with Python. Once you get familiar with the syntax you can dig deeper on your own.</p>

</div>
</div>
</div><div class="fragment">
<div class="cell border-box-sizing text_cell rendered"><div class="prompt input_prompt">
</div><div class="inner_cell">
<div class="text_cell_render border-box-sizing rendered_html">
<p>In fact, my attitude towards programming consists of the following two steps:</p>
<ol>
<li>Articulate what you want to accomplish (e.g. <code>I need to sort this array</code>)</li>
<li>google it! (e.g. <code>how to sort an array in Python?</code>)</li>
</ol>

</div>
</div>
</div></div><div class="fragment">
<div class="cell border-box-sizing text_cell rendered"><div class="prompt input_prompt">
</div><div class="inner_cell">
<div class="text_cell_render border-box-sizing rendered_html">
<p>As an engineer, programming languages are fundamental tools in my arsenal to tackle research problems. But they are only a means to an end. Therefore, I am happy to learn programming by mimicking what other professional programmers and software developers do. That's why google is your best friend.</p>

</div>
</div>
</div></div><div class="fragment">
<div class="cell border-box-sizing text_cell rendered"><div class="prompt input_prompt">
</div><div class="inner_cell">
<div class="text_cell_render border-box-sizing rendered_html">
<p>A key reference used for this guide is: <a href="https://www.cambridge.org/us/academic/subjects/engineering/engineering-mathematics-and-programming/numerical-methods-engineering-python-3-3rd-edition?format=HB&isbn=9781107033856#pxBTbtZyd8sAQIUY.97"> Numerical Methods in Engineering with Python 3 </a> by Jaan Kiusalaas.</p>

</div>
</div>
</div></div></section></section><section><section>
<div class="cell border-box-sizing text_cell rendered"><div class="prompt input_prompt">
</div><div class="inner_cell">
<div class="text_cell_render border-box-sizing rendered_html">
<h1 id="Python:-Anyone-Can-Code!">Python: Anyone Can Code!<a class="anchor-link" href="#Python:-Anyone-Can-Code!">&#182;</a></h1>
</div>
</div>
</div>
<div class="cell border-box-sizing text_cell rendered"><div class="prompt input_prompt">
</div><div class="inner_cell">
<div class="text_cell_render border-box-sizing rendered_html">
<p><img src="anyonecancode.png" alt="anyone can code"></p>

</div>
</div>
</div></section></section><section><section>
<div class="cell border-box-sizing text_cell rendered"><div class="prompt input_prompt">
</div><div class="inner_cell">
<div class="text_cell_render border-box-sizing rendered_html">
<p>Python is a modern programming language that is very easy to use. Python promotes productivity and a clear focus on accomplishing the tasks at hand.</p>

</div>
</div>
</div><div class="fragment">
<div class="cell border-box-sizing text_cell rendered"><div class="prompt input_prompt">
</div><div class="inner_cell">
<div class="text_cell_render border-box-sizing rendered_html">
<p>In an age of extreme technology and unsurpassed information exchange, it is unacceptable for a modern engineer to <strong>NOT</strong> know a programming language. Python stands among the easiest and most enjoyable programming languages out there.</p>

</div>
</div>
</div></div></section></section><section><section>
<div class="cell border-box-sizing text_cell rendered"><div class="prompt input_prompt">
</div><div class="inner_cell">
<div class="text_cell_render border-box-sizing rendered_html">
<p>If there's ever an example of why someone needs to learn programming, here it is:</p>

</div>
</div>
</div><div class="fragment">
<div class="cell border-box-sizing code_cell rendered">
<div class="input">
<div class="prompt input_prompt">In&nbsp;[7]:</div>
<div class="inner_cell">
    <div class="input_area">
<div class=" highlight hl-ipython3"><pre><span></span><span class="kn">from</span> <span class="nn">IPython.display</span> <span class="k">import</span> <span class="n">YouTubeVideo</span>
<span class="n">YouTubeVideo</span><span class="p">(</span><span class="s1">&#39;2o4Mk_CPqRk&#39;</span><span class="p">,</span><span class="n">width</span><span class="o">=</span><span class="mi">600</span><span class="p">,</span> <span class="n">height</span><span class="o">=</span><span class="mi">300</span><span class="p">)</span>
</pre></div>

    </div>
</div>
</div>

<div class="output_wrapper">
<div class="output">


<div class="output_area">

    <div class="prompt output_prompt">Out[7]:</div>



<div class="output_html rendered_html output_subarea output_execute_result">

        <iframe
            width="600"
            height="300"
            src="https://www.youtube.com/embed/2o4Mk_CPqRk"
            frameborder="0"
            allowfullscreen
        ></iframe>
        
</div>

</div>

</div>
</div>

</div>
<div class="cell border-box-sizing text_cell rendered"><div class="prompt input_prompt">
</div><div class="inner_cell">
<div class="text_cell_render border-box-sizing rendered_html">
<p>Back in the 60s, when our nation needed it the most... It was programming that saved the day! (Thanks to Dr. Sean Smith for the suggestion to include a clip from the movie Hidden Figures)</p>

</div>
</div>
</div></div></section></section><section><section>
<div class="cell border-box-sizing text_cell rendered"><div class="prompt input_prompt">
</div><div class="inner_cell">
<div class="text_cell_render border-box-sizing rendered_html">
<p>Here's why you should learn Python:</p>
<ol>
<li>Because your future will likely depend on it. Programming job trends rank python among the <a href="https://www.indeed.com/jobtrends/q-%22C++%22-q-Matlab-q-Python.html">top</a>. Moreover, coding Dojo places python <a href="http://www.codingdojo.com/blog/our-approach-to-curriculum/">Numero Uno</a>.</li>
<li>Python is <strong>FREE</strong>!</li>
<li>It is very easy to get started programming with Python</li>
<li>Python is very forgiving</li>
<li>There is significant community support around Python</li>
<li>You can even use Python in a web browser!</li>
</ol>

</div>
</div>
</div></section></section><section><section>
<div class="cell border-box-sizing text_cell rendered"><div class="prompt input_prompt">
</div><div class="inner_cell">
<div class="text_cell_render border-box-sizing rendered_html">
<h2 id="Obtaining-Python:-(Can't-you-just-Google-it?)">Obtaining Python: (Can't you just Google it?)<a class="anchor-link" href="#Obtaining-Python:-(Can't-you-just-Google-it?)">&#182;</a></h2><p>My favorite way of obtaining python is to download the Anaconda distribution: <a href="http://www.anaconda.com">http://www.anaconda.com</a>. Once you install it, Python mysteriously resides on your computer.</p>

</div>
</div>
</div><div class="fragment">
<div class="cell border-box-sizing text_cell rendered"><div class="prompt input_prompt">
</div><div class="inner_cell">
<div class="text_cell_render border-box-sizing rendered_html">
<h2 id="Executing-Python-Code">Executing Python Code<a class="anchor-link" href="#Executing-Python-Code">&#182;</a></h2><p>There are a few ways you can run Python:</p>
<ol>
<li>Write your code in a text file with the extension <strong><code>py</code></strong>. Then from the terminal type <strong><code>python myPythonCode.py</code></strong></li>
<li>Use one of the editors that ship with python. Anaconda ships with <code>Spyder</code>. Another famous editor is called <a href="https://www.jetbrains.com/pycharm/"> `PyCharm` </a>. Using these editors (actually Integrated Development Environments, IDEs), you can write code and execute it on the spot.</li>
<li>Use <strong><code>Jupyter Notebook</code></strong>. This my favorite approach as it allows you to write Python code from within your browser and mix it with text and equation. Simply open up a terminal (command prompt on windows) and type <strong><code>jupyter notebook</code></strong>.</li>
</ol>

</div>
</div>
</div>
<div class="cell border-box-sizing text_cell rendered"><div class="prompt input_prompt">
</div><div class="inner_cell">
<div class="text_cell_render border-box-sizing rendered_html">
<p>Here's a <a href="https://github.com/adam-p/markdown-here/wiki/Markdown-Cheatsheet"> Markdown cheat sheet </a> - the language used to write text in Jupyter Notebooks.</p>

</div>
</div>
</div></div><div class="fragment">
<div class="cell border-box-sizing text_cell rendered"><div class="prompt input_prompt">
</div><div class="inner_cell">
<div class="text_cell_render border-box-sizing rendered_html">
<p>For more information on jupyter notebooks, please see <a href="https://nbviewer.jupyter.org/format/slides/urls/gitlab.multiscale.utah.edu/Teaching/public-tools/jupyter-tips/raw/master/JupyterIntro.ipynb#/"> this guide</a> by Prof. James Sutherland.</p>

</div>
</div>
</div></div></section></section><section><section>
<div class="cell border-box-sizing text_cell rendered"><div class="prompt input_prompt">
</div><div class="inner_cell">
<div class="text_cell_render border-box-sizing rendered_html">
<h1 id="Core-Python">Core Python<a class="anchor-link" href="#Core-Python">&#182;</a></h1><p>Python has a bunch of key core functionality including the ability to define variables, strings, lists and other types. Let's get started:</p>

</div>
</div>
</div></section></section><section><section>
<div class="cell border-box-sizing text_cell rendered"><div class="prompt input_prompt">
</div><div class="inner_cell">
<div class="text_cell_render border-box-sizing rendered_html">
<h2 id="Variables">Variables<a class="anchor-link" href="#Variables">&#182;</a></h2><p>Variables, just like any programming language, can be declared and assigned <em>on the spot</em></p>

</div>
</div>
</div><div class="fragment">
<div class="cell border-box-sizing code_cell rendered">
<div class="input">
<div class="prompt input_prompt">In&nbsp;[8]:</div>
<div class="inner_cell">
    <div class="input_area">
<div class=" highlight hl-ipython3"><pre><span></span><span class="n">myVar</span> <span class="o">=</span> <span class="mi">33</span>   <span class="c1"># my var is an integer in this case</span>
<span class="nb">print</span><span class="p">(</span><span class="n">myVar</span><span class="p">)</span> <span class="c1"># this will print the value of myVar</span>
</pre></div>

    </div>
</div>
</div>

<div class="output_wrapper">
<div class="output">


<div class="output_area">

    <div class="prompt"></div>


<div class="output_subarea output_stream output_stdout output_text">
<pre>33
</pre>
</div>
</div>

</div>
</div>

</div></div><div class="fragment">
<div class="cell border-box-sizing code_cell rendered">
<div class="input">
<div class="prompt input_prompt">In&nbsp;[9]:</div>
<div class="inner_cell">
    <div class="input_area">
<div class=" highlight hl-ipython3"><pre><span></span><span class="n">b</span> <span class="o">=</span> <span class="mf">3.0</span> <span class="o">*</span> <span class="n">myVar</span> <span class="c1"># b is now floating point variable</span>
<span class="nb">print</span><span class="p">(</span><span class="n">b</span><span class="p">)</span>
</pre></div>

    </div>
</div>
</div>

<div class="output_wrapper">
<div class="output">


<div class="output_area">

    <div class="prompt"></div>


<div class="output_subarea output_stream output_stdout output_text">
<pre>99.0
</pre>
</div>
</div>

</div>
</div>

</div></div><div class="fragment">
<div class="cell border-box-sizing text_cell rendered"><div class="prompt input_prompt">
</div><div class="inner_cell">
<div class="text_cell_render border-box-sizing rendered_html">
<p>Note that Python automatically detects the data type of a variable. This is called dynamic typing.</p>

</div>
</div>
</div></div></section></section><section><section>
<div class="cell border-box-sizing text_cell rendered"><div class="prompt input_prompt">
</div><div class="inner_cell">
<div class="text_cell_render border-box-sizing rendered_html">
<h3 id="Strings">Strings<a class="anchor-link" href="#Strings">&#182;</a></h3><p>Strings are a special type of variable that represent text. Simply use single (or double) quotations to define a string variable.</p>

</div>
</div>
</div><div class="fragment">
<div class="cell border-box-sizing code_cell rendered">
<div class="input">
<div class="prompt input_prompt">In&nbsp;[10]:</div>
<div class="inner_cell">
    <div class="input_area">
<div class=" highlight hl-ipython3"><pre><span></span><span class="n">str1</span> <span class="o">=</span> <span class="s1">&#39;This is my first string variable.&#39;</span>
<span class="nb">print</span><span class="p">(</span><span class="n">str1</span><span class="p">)</span>
</pre></div>

    </div>
</div>
</div>

<div class="output_wrapper">
<div class="output">


<div class="output_area">

    <div class="prompt"></div>


<div class="output_subarea output_stream output_stdout output_text">
<pre>This is my first string variable.
</pre>
</div>
</div>

</div>
</div>

</div></div><div class="fragment">
<div class="cell border-box-sizing code_cell rendered">
<div class="input">
<div class="prompt input_prompt">In&nbsp;[11]:</div>
<div class="inner_cell">
    <div class="input_area">
<div class=" highlight hl-ipython3"><pre><span></span><span class="n">str2</span> <span class="o">=</span> <span class="s2">&quot;this is also another string&quot;</span>
<span class="nb">print</span><span class="p">(</span><span class="n">str2</span><span class="p">)</span>
</pre></div>

    </div>
</div>
</div>

<div class="output_wrapper">
<div class="output">


<div class="output_area">

    <div class="prompt"></div>


<div class="output_subarea output_stream output_stdout output_text">
<pre>this is also another string
</pre>
</div>
</div>

</div>
</div>

</div></div></section></section><section><section>
<div class="cell border-box-sizing text_cell rendered"><div class="prompt input_prompt">
</div><div class="inner_cell">
<div class="text_cell_render border-box-sizing rendered_html">
<p>You can concatenate strings together:</p>

</div>
</div>
</div><div class="fragment">
<div class="cell border-box-sizing code_cell rendered">
<div class="input">
<div class="prompt input_prompt">In&nbsp;[12]:</div>
<div class="inner_cell">
    <div class="input_area">
<div class=" highlight hl-ipython3"><pre><span></span><span class="n">str3</span> <span class="o">=</span> <span class="n">str1</span> <span class="o">+</span> <span class="n">str2</span>
<span class="nb">print</span><span class="p">(</span><span class="n">str3</span><span class="p">)</span>
</pre></div>

    </div>
</div>
</div>

<div class="output_wrapper">
<div class="output">


<div class="output_area">

    <div class="prompt"></div>


<div class="output_subarea output_stream output_stdout output_text">
<pre>This is my first string variable.this is also another string
</pre>
</div>
</div>

</div>
</div>

</div></div><div class="fragment">
<div class="cell border-box-sizing text_cell rendered"><div class="prompt input_prompt">
</div><div class="inner_cell">
<div class="text_cell_render border-box-sizing rendered_html">
<p>and you can add extra strings in between</p>

</div>
</div>
</div></div><div class="fragment">
<div class="cell border-box-sizing code_cell rendered">
<div class="input">
<div class="prompt input_prompt">In&nbsp;[13]:</div>
<div class="inner_cell">
    <div class="input_area">
<div class=" highlight hl-ipython3"><pre><span></span><span class="n">str4</span> <span class="o">=</span> <span class="n">str1</span> <span class="o">+</span> <span class="s2">&quot; &quot;</span> <span class="o">+</span> <span class="n">str2</span> <span class="o">+</span> <span class="s2">&quot;.&quot;</span>
<span class="nb">print</span><span class="p">(</span><span class="n">str4</span><span class="p">)</span>
</pre></div>

    </div>
</div>
</div>

<div class="output_wrapper">
<div class="output">


<div class="output_area">

    <div class="prompt"></div>


<div class="output_subarea output_stream output_stdout output_text">
<pre>This is my first string variable. this is also another string.
</pre>
</div>
</div>

</div>
</div>

</div></div></section></section><section><section>
<div class="cell border-box-sizing text_cell rendered"><div class="prompt input_prompt">
</div><div class="inner_cell">
<div class="text_cell_render border-box-sizing rendered_html">
<p>Strings represent an <strong>immutable</strong> list of characters - that is, you <em>cannot</em> assign values of individual characters - otherwise, you will get an error.</p>

</div>
</div>
</div><div class="fragment">
<div class="cell border-box-sizing code_cell rendered">
<div class="input">
<div class="prompt input_prompt">In&nbsp;[14]:</div>
<div class="inner_cell">
    <div class="input_area">
<div class=" highlight hl-ipython3"><pre><span></span><span class="n">str4</span><span class="p">[</span><span class="mi">2</span><span class="p">]</span><span class="o">=</span><span class="s1">&#39;b&#39;</span>
</pre></div>

    </div>
</div>
</div>

<div class="output_wrapper">
<div class="output">


<div class="output_area">

    <div class="prompt"></div>


<div class="output_subarea output_text output_error">
<pre><span class="ansi-red-fg">---------------------------------------------------------------------------</span>
<span class="ansi-red-fg">TypeError</span>                                 Traceback (most recent call last)
<span class="ansi-green-fg">&lt;ipython-input-14-4fe559b3f18c&gt;</span> in <span class="ansi-cyan-fg">&lt;module&gt;</span><span class="ansi-blue-fg">()</span>
<span class="ansi-green-fg">----&gt; 1</span><span class="ansi-red-fg"> </span>str4<span class="ansi-blue-fg">[</span><span class="ansi-cyan-fg">2</span><span class="ansi-blue-fg">]</span><span class="ansi-blue-fg">=</span><span class="ansi-blue-fg">&#39;b&#39;</span>

<span class="ansi-red-fg">TypeError</span>: &#39;str&#39; object does not support item assignment</pre>
</div>
</div>

</div>
</div>

</div></div><div class="fragment">
<div class="cell border-box-sizing text_cell rendered"><div class="prompt input_prompt">
</div><div class="inner_cell">
<div class="text_cell_render border-box-sizing rendered_html">
<p>But you can certainly loop through a string:</p>

</div>
</div>
</div></div><div class="fragment">
<div class="cell border-box-sizing code_cell rendered">
<div class="input">
<div class="prompt input_prompt">In&nbsp;[15]:</div>
<div class="inner_cell">
    <div class="input_area">
<div class=" highlight hl-ipython3"><pre><span></span><span class="n">newstr</span> <span class="o">=</span> <span class="s1">&#39;string&#39;</span>
<span class="k">for</span> <span class="n">val</span> <span class="ow">in</span> <span class="n">newstr</span><span class="p">:</span> <span class="c1"># you will learn about this kind of loop later</span>
    <span class="nb">print</span><span class="p">(</span><span class="n">val</span><span class="p">)</span>
</pre></div>

    </div>
</div>
</div>

<div class="output_wrapper">
<div class="output">


<div class="output_area">

    <div class="prompt"></div>


<div class="output_subarea output_stream output_stdout output_text">
<pre>s
t
r
i
n
g
</pre>
</div>
</div>

</div>
</div>

</div></div></section></section><section><section>
<div class="cell border-box-sizing text_cell rendered"><div class="prompt input_prompt">
</div><div class="inner_cell">
<div class="text_cell_render border-box-sizing rendered_html">
<h3 id="Tuples">Tuples<a class="anchor-link" href="#Tuples">&#182;</a></h3>
</div>
</div>
</div><div class="fragment">
<div class="cell border-box-sizing text_cell rendered"><div class="prompt input_prompt">
</div><div class="inner_cell">
<div class="text_cell_render border-box-sizing rendered_html">
<p>A tuple is an <strong>immutable</strong> sequence of <strong>arbitrary</strong> objects separated by commas and enclosed in parentheses.</p>

</div>
</div>
</div></div><div class="fragment">
<div class="cell border-box-sizing code_cell rendered">
<div class="input">
<div class="prompt input_prompt">In&nbsp;[16]:</div>
<div class="inner_cell">
    <div class="input_area">
<div class=" highlight hl-ipython3"><pre><span></span><span class="n">a</span><span class="o">=</span><span class="p">(</span><span class="mi">1</span><span class="p">,</span><span class="s1">&#39;b&#39;</span><span class="p">,</span><span class="mi">2</span><span class="p">)</span>
</pre></div>

    </div>
</div>
</div>

</div></div><div class="fragment">
<div class="cell border-box-sizing text_cell rendered"><div class="prompt input_prompt">
</div><div class="inner_cell">
<div class="text_cell_render border-box-sizing rendered_html">
<p>You can access items in a tuple</p>

</div>
</div>
</div></div><div class="fragment">
<div class="cell border-box-sizing code_cell rendered">
<div class="input">
<div class="prompt input_prompt">In&nbsp;[17]:</div>
<div class="inner_cell">
    <div class="input_area">
<div class=" highlight hl-ipython3"><pre><span></span><span class="nb">print</span><span class="p">(</span><span class="n">a</span><span class="p">[</span><span class="mi">2</span><span class="p">])</span>
</pre></div>

    </div>
</div>
</div>

<div class="output_wrapper">
<div class="output">


<div class="output_area">

    <div class="prompt"></div>


<div class="output_subarea output_stream output_stdout output_text">
<pre>2
</pre>
</div>
</div>

</div>
</div>

</div></div><div class="fragment">
<div class="cell border-box-sizing text_cell rendered"><div class="prompt input_prompt">
</div><div class="inner_cell">
<div class="text_cell_render border-box-sizing rendered_html">
<p>but cannot modify the contents because they are immutable</p>

</div>
</div>
</div></div><div class="fragment">
<div class="cell border-box-sizing code_cell rendered">
<div class="input">
<div class="prompt input_prompt">In&nbsp;[18]:</div>
<div class="inner_cell">
    <div class="input_area">
<div class=" highlight hl-ipython3"><pre><span></span><span class="n">a</span><span class="p">[</span><span class="mi">3</span><span class="p">]</span><span class="o">=</span><span class="mf">2.0</span>
</pre></div>

    </div>
</div>
</div>

<div class="output_wrapper">
<div class="output">


<div class="output_area">

    <div class="prompt"></div>


<div class="output_subarea output_text output_error">
<pre><span class="ansi-red-fg">---------------------------------------------------------------------------</span>
<span class="ansi-red-fg">TypeError</span>                                 Traceback (most recent call last)
<span class="ansi-green-fg">&lt;ipython-input-18-d0adeb328366&gt;</span> in <span class="ansi-cyan-fg">&lt;module&gt;</span><span class="ansi-blue-fg">()</span>
<span class="ansi-green-fg">----&gt; 1</span><span class="ansi-red-fg"> </span>a<span class="ansi-blue-fg">[</span><span class="ansi-cyan-fg">3</span><span class="ansi-blue-fg">]</span><span class="ansi-blue-fg">=</span><span class="ansi-cyan-fg">2.0</span>

<span class="ansi-red-fg">TypeError</span>: &#39;tuple&#39; object does not support item assignment</pre>
</div>
</div>

</div>
</div>

</div></div></section></section><section><section>
<div class="cell border-box-sizing text_cell rendered"><div class="prompt input_prompt">
</div><div class="inner_cell">
<div class="text_cell_render border-box-sizing rendered_html">
<h3 id="Lists">Lists<a class="anchor-link" href="#Lists">&#182;</a></h3>
</div>
</div>
</div><div class="fragment">
<div class="cell border-box-sizing text_cell rendered"><div class="prompt input_prompt">
</div><div class="inner_cell">
<div class="text_cell_render border-box-sizing rendered_html">
<p>Lists are a like tuples but are <strong>mutable</strong>. They are defined using square brackets with items separated by a comma.</p>

</div>
</div>
</div></div><div class="fragment">
<div class="cell border-box-sizing code_cell rendered">
<div class="input">
<div class="prompt input_prompt">In&nbsp;[19]:</div>
<div class="inner_cell">
    <div class="input_area">
<div class=" highlight hl-ipython3"><pre><span></span><span class="n">myList</span> <span class="o">=</span> <span class="p">[</span><span class="mi">1</span><span class="p">,</span><span class="mi">2</span><span class="p">,</span><span class="mi">3</span><span class="p">,</span><span class="s1">&#39;b&#39;</span><span class="p">]</span>
<span class="nb">print</span><span class="p">(</span><span class="n">myList</span><span class="p">)</span>
</pre></div>

    </div>
</div>
</div>

<div class="output_wrapper">
<div class="output">


<div class="output_area">

    <div class="prompt"></div>


<div class="output_subarea output_stream output_stdout output_text">
<pre>[1, 2, 3, &#39;b&#39;]
</pre>
</div>
</div>

</div>
</div>

</div></div></section></section><section><section>
<div class="cell border-box-sizing text_cell rendered"><div class="prompt input_prompt">
</div><div class="inner_cell">
<div class="text_cell_render border-box-sizing rendered_html">
<p>You can modify items in a list</p>

</div>
</div>
</div><div class="fragment">
<div class="cell border-box-sizing code_cell rendered">
<div class="input">
<div class="prompt input_prompt">In&nbsp;[20]:</div>
<div class="inner_cell">
    <div class="input_area">
<div class=" highlight hl-ipython3"><pre><span></span><span class="n">myList</span><span class="p">[</span><span class="mi">3</span><span class="p">]</span><span class="o">=</span><span class="s1">&#39;a&#39;</span>
<span class="nb">print</span><span class="p">(</span><span class="n">myList</span><span class="p">)</span>
</pre></div>

    </div>
</div>
</div>

<div class="output_wrapper">
<div class="output">


<div class="output_area">

    <div class="prompt"></div>


<div class="output_subarea output_stream output_stdout output_text">
<pre>[1, 2, 3, &#39;a&#39;]
</pre>
</div>
</div>

</div>
</div>

</div></div><div class="fragment">
<div class="cell border-box-sizing text_cell rendered"><div class="prompt input_prompt">
</div><div class="inner_cell">
<div class="text_cell_render border-box-sizing rendered_html">
<p>You can append items to a list</p>

</div>
</div>
</div></div><div class="fragment">
<div class="cell border-box-sizing code_cell rendered">
<div class="input">
<div class="prompt input_prompt">In&nbsp;[21]:</div>
<div class="inner_cell">
    <div class="input_area">
<div class=" highlight hl-ipython3"><pre><span></span><span class="n">myList</span><span class="o">.</span><span class="n">append</span><span class="p">(</span><span class="mi">43</span><span class="p">)</span>
<span class="nb">print</span><span class="p">(</span><span class="n">myList</span><span class="p">)</span>
</pre></div>

    </div>
</div>
</div>

<div class="output_wrapper">
<div class="output">


<div class="output_area">

    <div class="prompt"></div>


<div class="output_subarea output_stream output_stdout output_text">
<pre>[1, 2, 3, &#39;a&#39;, 43]
</pre>
</div>
</div>

</div>
</div>

</div></div><div class="fragment">
<div class="cell border-box-sizing text_cell rendered"><div class="prompt input_prompt">
</div><div class="inner_cell">
<div class="text_cell_render border-box-sizing rendered_html">
<p>You can also insert items in a list at a specified location</p>

</div>
</div>
</div></div><div class="fragment">
<div class="cell border-box-sizing code_cell rendered">
<div class="input">
<div class="prompt input_prompt">In&nbsp;[22]:</div>
<div class="inner_cell">
    <div class="input_area">
<div class=" highlight hl-ipython3"><pre><span></span><span class="n">myList</span><span class="o">.</span><span class="n">insert</span><span class="p">(</span><span class="mi">3</span><span class="p">,</span><span class="s1">&#39;inserted item&#39;</span><span class="p">)</span>
<span class="nb">print</span><span class="p">(</span><span class="n">myList</span><span class="p">)</span>
</pre></div>

    </div>
</div>
</div>

<div class="output_wrapper">
<div class="output">


<div class="output_area">

    <div class="prompt"></div>


<div class="output_subarea output_stream output_stdout output_text">
<pre>[1, 2, 3, &#39;inserted item&#39;, &#39;a&#39;, 43]
</pre>
</div>
</div>

</div>
</div>

</div></div></section></section><section><section>
<div class="cell border-box-sizing text_cell rendered"><div class="prompt input_prompt">
</div><div class="inner_cell">
<div class="text_cell_render border-box-sizing rendered_html">
<p>You can create a list of lists as well</p>

</div>
</div>
</div><div class="fragment">
<div class="cell border-box-sizing code_cell rendered">
<div class="input">
<div class="prompt input_prompt">In&nbsp;[23]:</div>
<div class="inner_cell">
    <div class="input_area">
<div class=" highlight hl-ipython3"><pre><span></span><span class="n">b</span> <span class="o">=</span> <span class="p">[[</span><span class="mi">1</span><span class="p">,</span><span class="mi">2</span><span class="p">,</span><span class="mi">3</span><span class="p">],</span>
     <span class="p">[</span><span class="mi">5</span><span class="p">,</span><span class="mi">7</span><span class="p">,</span><span class="mi">8</span><span class="p">],</span>
     <span class="p">[</span><span class="mi">17</span><span class="p">,</span><span class="mi">0</span><span class="p">,</span><span class="mi">9</span><span class="p">]]</span>
<span class="nb">print</span><span class="p">(</span><span class="n">b</span><span class="p">)</span>
</pre></div>

    </div>
</div>
</div>

<div class="output_wrapper">
<div class="output">


<div class="output_area">

    <div class="prompt"></div>


<div class="output_subarea output_stream output_stdout output_text">
<pre>[[1, 2, 3], [5, 7, 8], [17, 0, 9]]
</pre>
</div>
</div>

</div>
</div>

</div></div><div class="fragment">
<div class="cell border-box-sizing text_cell rendered"><div class="prompt input_prompt">
</div><div class="inner_cell">
<div class="text_cell_render border-box-sizing rendered_html">
<p>You can create an empty list with: <code> x = [] </code> and then you can append things to it.</p>

</div>
</div>
</div></div><div class="fragment">
<div class="cell border-box-sizing code_cell rendered">
<div class="input">
<div class="prompt input_prompt">In&nbsp;[24]:</div>
<div class="inner_cell">
    <div class="input_area">
<div class=" highlight hl-ipython3"><pre><span></span><span class="n">x</span> <span class="o">=</span><span class="p">[]</span>
<span class="n">x</span><span class="o">.</span><span class="n">append</span><span class="p">(</span><span class="mi">1</span><span class="p">)</span>
<span class="n">x</span><span class="o">.</span><span class="n">append</span><span class="p">(</span><span class="s1">&#39;apple&#39;</span><span class="p">)</span>
<span class="nb">print</span><span class="p">(</span><span class="n">x</span><span class="p">)</span>
</pre></div>

    </div>
</div>
</div>

<div class="output_wrapper">
<div class="output">


<div class="output_area">

    <div class="prompt"></div>


<div class="output_subarea output_stream output_stdout output_text">
<pre>[1, &#39;apple&#39;]
</pre>
</div>
</div>

</div>
</div>

</div></div></section></section><section><section>
<div class="cell border-box-sizing text_cell rendered"><div class="prompt input_prompt">
</div><div class="inner_cell">
<div class="text_cell_render border-box-sizing rendered_html">
<p>For scientific computing applications, it is recommended to use numpy arrays instead of lists. We will look at <a href="#The-Almighty-numpy">numpy</a> arrays a little bit later.</p>

</div>
</div>
</div></section></section><section><section>
<div class="cell border-box-sizing text_cell rendered"><div class="prompt input_prompt">
</div><div class="inner_cell">
<div class="text_cell_render border-box-sizing rendered_html">
<h3 id="WARNING!">WARNING!<a class="anchor-link" href="#WARNING!">&#182;</a></h3><p>If <code>b</code> is a list, then the assignment <code>a = b</code> does <strong>NOT</strong> create a copy of <code>b</code>. Instead, <code>a</code> <strong>AND</strong> <code>b</code> both point to the same data. So if you change <code>a</code>, <code>b</code> will also change. and vice versa.</p>

</div>
</div>
</div><div class="fragment">
<div class="cell border-box-sizing code_cell rendered">
<div class="input">
<div class="prompt input_prompt">In&nbsp;[25]:</div>
<div class="inner_cell">
    <div class="input_area">
<div class=" highlight hl-ipython3"><pre><span></span><span class="n">b</span><span class="o">=</span><span class="p">[</span><span class="mi">1</span><span class="p">,</span><span class="mi">3</span><span class="p">,</span><span class="mi">5</span><span class="p">]</span> <span class="c1"># create a list called b</span>
<span class="nb">print</span><span class="p">(</span><span class="s2">&quot;b = &quot;</span><span class="p">,</span> <span class="n">b</span><span class="p">)</span>  <span class="c1"># b should be [1,3,5]</span>
<span class="n">a</span> <span class="o">=</span> <span class="n">b</span>     <span class="c1"># a is [1,3,5]</span>
<span class="n">a</span><span class="p">[</span><span class="mi">2</span><span class="p">]</span><span class="o">=</span><span class="mf">1.11</span> <span class="c1"># a is [1,3,1.11] BUT THIS ALSO CHANGES b!</span>
<span class="nb">print</span><span class="p">(</span><span class="s2">&quot;a = &quot;</span><span class="p">,</span> <span class="n">a</span><span class="p">)</span>
<span class="nb">print</span><span class="p">(</span><span class="s2">&quot;b is now also changed to: &quot;</span><span class="p">,</span> <span class="n">b</span><span class="p">)</span>  <span class="c1"># b is [1,3,1.11]</span>
</pre></div>

    </div>
</div>
</div>

<div class="output_wrapper">
<div class="output">


<div class="output_area">

    <div class="prompt"></div>


<div class="output_subarea output_stream output_stdout output_text">
<pre>b =  [1, 3, 5]
a =  [1, 3, 1.11]
b is now also changed to:  [1, 3, 1.11]
</pre>
</div>
</div>

</div>
</div>

</div></div></section></section><section><section>
<div class="cell border-box-sizing text_cell rendered"><div class="prompt input_prompt">
</div><div class="inner_cell">
<div class="text_cell_render border-box-sizing rendered_html">
<p>If you want to make a copy, you should use: <code>a = b.copy()</code></p>

</div>
</div>
</div><div class="fragment">
<div class="cell border-box-sizing code_cell rendered">
<div class="input">
<div class="prompt input_prompt">In&nbsp;[26]:</div>
<div class="inner_cell">
    <div class="input_area">
<div class=" highlight hl-ipython3"><pre><span></span><span class="n">b</span><span class="o">=</span><span class="p">[</span><span class="mi">1</span><span class="p">,</span><span class="mi">3</span><span class="p">,</span><span class="mi">5</span><span class="p">]</span> <span class="c1"># create a list called b</span>
<span class="nb">print</span><span class="p">(</span><span class="s2">&quot;b = &quot;</span><span class="p">,</span> <span class="n">b</span><span class="p">)</span>  <span class="c1"># b should be [1,3,5]</span>
<span class="n">a</span> <span class="o">=</span> <span class="n">b</span><span class="o">.</span><span class="n">copy</span><span class="p">()</span>     <span class="c1"># a is [1,3,5]</span>
<span class="n">a</span><span class="p">[</span><span class="mi">2</span><span class="p">]</span><span class="o">=</span><span class="mf">1.11</span> <span class="c1"># a is [1,3,1.11] BUT THIS ALSO CHANGES b!</span>
<span class="nb">print</span><span class="p">(</span><span class="s2">&quot;a = &quot;</span><span class="p">,</span> <span class="n">a</span><span class="p">)</span>
<span class="nb">print</span><span class="p">(</span><span class="s2">&quot;b remains unchanged: &quot;</span><span class="p">,</span> <span class="n">b</span><span class="p">)</span>  <span class="c1"># b is [1,3,1.11]</span>
</pre></div>

    </div>
</div>
</div>

<div class="output_wrapper">
<div class="output">


<div class="output_area">

    <div class="prompt"></div>


<div class="output_subarea output_stream output_stdout output_text">
<pre>b =  [1, 3, 5]
a =  [1, 3, 1.11]
b remains unchanged:  [1, 3, 5]
</pre>
</div>
</div>

</div>
</div>

</div></div></section></section><section><section>
<div class="cell border-box-sizing text_cell rendered"><div class="prompt input_prompt">
</div><div class="inner_cell">
<div class="text_cell_render border-box-sizing rendered_html">
<h3 id="Displaying-Variables">Displaying Variables<a class="anchor-link" href="#Displaying-Variables">&#182;</a></h3>
</div>
</div>
</div><div class="fragment">
<div class="cell border-box-sizing text_cell rendered"><div class="prompt input_prompt">
</div><div class="inner_cell">
<div class="text_cell_render border-box-sizing rendered_html">
<p>You can display variables simply by typing them</p>

</div>
</div>
</div></div><div class="fragment">
<div class="cell border-box-sizing code_cell rendered">
<div class="input">
<div class="prompt input_prompt">In&nbsp;[27]:</div>
<div class="inner_cell">
    <div class="input_area">
<div class=" highlight hl-ipython3"><pre><span></span><span class="n">myList</span>
</pre></div>

    </div>
</div>
</div>

<div class="output_wrapper">
<div class="output">


<div class="output_area">

    <div class="prompt output_prompt">Out[27]:</div>




<div class="output_text output_subarea output_execute_result">
<pre>[1, 2, 3, &#39;inserted item&#39;, &#39;a&#39;, 43]</pre>
</div>

</div>

</div>
</div>

</div></div><div class="fragment">
<div class="cell border-box-sizing text_cell rendered"><div class="prompt input_prompt">
</div><div class="inner_cell">
<div class="text_cell_render border-box-sizing rendered_html">
<p>or by using <code>print</code></p>

</div>
</div>
</div></div><div class="fragment">
<div class="cell border-box-sizing code_cell rendered">
<div class="input">
<div class="prompt input_prompt">In&nbsp;[28]:</div>
<div class="inner_cell">
    <div class="input_area">
<div class=" highlight hl-ipython3"><pre><span></span><span class="nb">print</span><span class="p">(</span><span class="n">myList</span><span class="p">)</span>
</pre></div>

    </div>
</div>
</div>

<div class="output_wrapper">
<div class="output">


<div class="output_area">

    <div class="prompt"></div>


<div class="output_subarea output_stream output_stdout output_text">
<pre>[1, 2, 3, &#39;inserted item&#39;, &#39;a&#39;, 43]
</pre>
</div>
</div>

</div>
</div>

</div></div><div class="fragment">
<div class="cell border-box-sizing text_cell rendered"><div class="prompt input_prompt">
</div><div class="inner_cell">
<div class="text_cell_render border-box-sizing rendered_html">
<p>You can also format things using <code>print</code></p>

</div>
</div>
</div></div><div class="fragment">
<div class="cell border-box-sizing code_cell rendered">
<div class="input">
<div class="prompt input_prompt">In&nbsp;[29]:</div>
<div class="inner_cell">
    <div class="input_area">
<div class=" highlight hl-ipython3"><pre><span></span><span class="nb">print</span><span class="p">(</span><span class="s1">&#39;This is my list:&#39;</span><span class="p">,</span> <span class="n">myList</span><span class="p">)</span>
</pre></div>

    </div>
</div>
</div>

<div class="output_wrapper">
<div class="output">


<div class="output_area">

    <div class="prompt"></div>


<div class="output_subarea output_stream output_stdout output_text">
<pre>This is my list: [1, 2, 3, &#39;inserted item&#39;, &#39;a&#39;, 43]
</pre>
</div>
</div>

</div>
</div>

</div></div></section></section><section><section>
<div class="cell border-box-sizing text_cell rendered"><div class="prompt input_prompt">
</div><div class="inner_cell">
<div class="text_cell_render border-box-sizing rendered_html">
<h2 id="Arithmetic-Operators">Arithmetic Operators<a class="anchor-link" href="#Arithmetic-Operators">&#182;</a></h2><p>Python supports basic math operators. You can use those on almost ANYTHING in python!</p>

</div>
</div>
</div><div class="fragment">
<div class="cell border-box-sizing text_cell rendered"><div class="prompt input_prompt">
</div><div class="inner_cell">
<div class="text_cell_render border-box-sizing rendered_html">
<table>
<thead><tr>
<th>Operation</th>
<th style="text-align:center">Symbol</th>
</tr>
</thead>
<tbody>
<tr>
<td>Addition</td>
<td style="text-align:center">+</td>
</tr>
<tr>
<td>Subtraction</td>
<td style="text-align:center">-</td>
</tr>
<tr>
<td>Multiplication</td>
<td style="text-align:center">*</td>
</tr>
<tr>
<td>Division</td>
<td style="text-align:center">/</td>
</tr>
<tr>
<td>Exponentiation</td>
<td style="text-align:center">**</td>
</tr>
<tr>
<td>Modulus</td>
<td style="text-align:center">%</td>
</tr>
</tbody>
</table>

</div>
</div>
</div></div></section></section><section><section>
<div class="cell border-box-sizing text_cell rendered"><div class="prompt input_prompt">
</div><div class="inner_cell">
<div class="text_cell_render border-box-sizing rendered_html">
<p>You can also use augmented assignements</p>
<table>
<thead><tr>
<th>Operation</th>
<th style="text-align:center">Meaning</th>
</tr>
</thead>
<tbody>
<tr>
<td>a += b</td>
<td style="text-align:center">a = a + b</td>
</tr>
<tr>
<td>a -= b</td>
<td style="text-align:center">a = a -b</td>
</tr>
<tr>
<td>a *= b</td>
<td style="text-align:center">a = a*b</td>
</tr>
<tr>
<td>a /=b</td>
<td style="text-align:center">a = a/b</td>
</tr>
<tr>
<td>a **= b</td>
<td style="text-align:center">a = a**b</td>
</tr>
<tr>
<td>a %= b</td>
<td style="text-align:center">a = a % b</td>
</tr>
</tbody>
</table>

</div>
</div>
</div></section></section><section><section>
<div class="cell border-box-sizing text_cell rendered"><div class="prompt input_prompt">
</div><div class="inner_cell">
<div class="text_cell_render border-box-sizing rendered_html">
<h2 id="Comparison-Operators">Comparison Operators<a class="anchor-link" href="#Comparison-Operators">&#182;</a></h2><p>Python also supports all basic comparison operators. These work on almost everything in Python - but make sure you understand their meaning!</p>

</div>
</div>
</div><div class="fragment">
<div class="cell border-box-sizing text_cell rendered"><div class="prompt input_prompt">
</div><div class="inner_cell">
<div class="text_cell_render border-box-sizing rendered_html">
<table>
<thead><tr>
<th>Symbol</th>
<th style="text-align:center">Meaning</th>
</tr>
</thead>
<tbody>
<tr>
<td>&lt;</td>
<td style="text-align:center">Less than</td>
</tr>
<tr>
<td>&gt;</td>
<td style="text-align:center">Greater than</td>
</tr>
<tr>
<td>&lt;=</td>
<td style="text-align:center">Less than or equal to</td>
</tr>
<tr>
<td>&gt;=</td>
<td style="text-align:center">Greater than or equal to</td>
</tr>
<tr>
<td>==</td>
<td style="text-align:center">Equal to</td>
</tr>
<tr>
<td>!=</td>
<td style="text-align:center">Not equal to</td>
</tr>
</tbody>
</table>

</div>
</div>
</div></div></section></section><section><section>
<div class="cell border-box-sizing text_cell rendered"><div class="prompt input_prompt">
</div><div class="inner_cell">
<div class="text_cell_render border-box-sizing rendered_html">
<p>When different data types are compared to each other, they are first converted, when possible, to a common type and then compared. Such is the case for example when comparing an integer and a float.</p>

</div>
</div>
</div><div class="fragment">
<div class="cell border-box-sizing code_cell rendered">
<div class="input">
<div class="prompt input_prompt">In&nbsp;[30]:</div>
<div class="inner_cell">
    <div class="input_area">
<div class=" highlight hl-ipython3"><pre><span></span><span class="n">a</span> <span class="o">=</span> <span class="mi">2</span> <span class="c1"># a is an integer</span>
<span class="n">b</span> <span class="o">=</span> <span class="mf">2.1</span> <span class="c1"># b is a float</span>
<span class="nb">print</span><span class="p">(</span><span class="n">a</span><span class="o">&gt;</span><span class="n">b</span><span class="p">)</span> <span class="c1"># converts both numbers to a float</span>
</pre></div>

    </div>
</div>
</div>

<div class="output_wrapper">
<div class="output">


<div class="output_area">

    <div class="prompt"></div>


<div class="output_subarea output_stream output_stdout output_text">
<pre>False
</pre>
</div>
</div>

</div>
</div>

</div></div><div class="fragment">
<div class="cell border-box-sizing text_cell rendered"><div class="prompt input_prompt">
</div><div class="inner_cell">
<div class="text_cell_render border-box-sizing rendered_html">
<p>When a conversion to a common type is not possible, then in general, objects are considered to be unequal.</p>

</div>
</div>
</div></div><div class="fragment">
<div class="cell border-box-sizing code_cell rendered">
<div class="input">
<div class="prompt input_prompt">In&nbsp;[31]:</div>
<div class="inner_cell">
    <div class="input_area">
<div class=" highlight hl-ipython3"><pre><span></span><span class="n">a</span><span class="o">=</span><span class="mi">2</span>
<span class="n">b</span><span class="o">=</span><span class="s1">&#39;2.1&#39;</span>
<span class="nb">print</span><span class="p">(</span><span class="n">a</span><span class="o">==</span><span class="n">b</span><span class="p">)</span>
</pre></div>

    </div>
</div>
</div>

<div class="output_wrapper">
<div class="output">


<div class="output_area">

    <div class="prompt"></div>


<div class="output_subarea output_stream output_stdout output_text">
<pre>False
</pre>
</div>
</div>

</div>
</div>

</div></div></section></section><section><section>
<div class="cell border-box-sizing text_cell rendered"><div class="prompt input_prompt">
</div><div class="inner_cell">
<div class="text_cell_render border-box-sizing rendered_html">
<h3 id="Conditionals-(If-statements)">Conditionals (If statements)<a class="anchor-link" href="#Conditionals-(If-statements)">&#182;</a></h3>
</div>
</div>
</div><div class="fragment">
<div class="cell border-box-sizing text_cell rendered"><div class="prompt input_prompt">
</div><div class="inner_cell">
<div class="text_cell_render border-box-sizing rendered_html">
<p>You can use if statements to analyze the condition of a variable during runtime. An if statements looks like:</p>
<div class="highlight"><pre><span></span><span class="k">if</span> <span class="n">condition</span><span class="p">:</span>
  <span class="n">do</span> <span class="n">something</span>
<span class="k">elif</span> <span class="n">condition2</span><span class="p">:</span>
  <span class="n">do</span> <span class="n">something</span> <span class="k">else</span>
<span class="k">else</span><span class="p">:</span>
  <span class="nb">all</span> <span class="n">other</span> <span class="n">cases</span>
</pre></div>
<p>Don't forget indentation! For the <strong>condition</strong>, You can use any of the comparison operators introduced earlier.</p>

</div>
</div>
</div></div><div class="fragment">
<div class="cell border-box-sizing code_cell rendered">
<div class="input">
<div class="prompt input_prompt">In&nbsp;[32]:</div>
<div class="inner_cell">
    <div class="input_area">
<div class=" highlight hl-ipython3"><pre><span></span><span class="n">a</span> <span class="o">=</span> <span class="mi">1</span>
<span class="k">if</span> <span class="n">a</span> <span class="o">&lt;</span> <span class="mf">0.0</span><span class="p">:</span>
    <span class="nb">print</span> <span class="p">(</span><span class="s1">&#39;negative&#39;</span><span class="p">)</span>
<span class="k">elif</span> <span class="n">a</span> <span class="o">&gt;</span> <span class="mf">0.0</span><span class="p">:</span>
    <span class="nb">print</span> <span class="p">(</span><span class="s1">&#39;positive&#39;</span><span class="p">)</span>
<span class="k">else</span><span class="p">:</span>
    <span class="nb">print</span><span class="p">(</span><span class="s1">&#39;neither negative nor positive&#39;</span><span class="p">)</span>
</pre></div>

    </div>
</div>
</div>

<div class="output_wrapper">
<div class="output">


<div class="output_area">

    <div class="prompt"></div>


<div class="output_subarea output_stream output_stdout output_text">
<pre>positive
</pre>
</div>
</div>

</div>
</div>

</div></div></section></section><section><section>
<div class="cell border-box-sizing text_cell rendered"><div class="prompt input_prompt">
</div><div class="inner_cell">
<div class="text_cell_render border-box-sizing rendered_html">
<h2 id="Loops">Loops<a class="anchor-link" href="#Loops">&#182;</a></h2><p>Loops are cool.</p>

</div>
</div>
</div></section></section><section><section>
<div class="cell border-box-sizing text_cell rendered"><div class="prompt input_prompt">
</div><div class="inner_cell">
<div class="text_cell_render border-box-sizing rendered_html">
<h3 id="While-Loops">While Loops<a class="anchor-link" href="#While-Loops">&#182;</a></h3>
</div>
</div>
</div><div class="fragment">
<div class="cell border-box-sizing text_cell rendered"><div class="prompt input_prompt">
</div><div class="inner_cell">
<div class="text_cell_render border-box-sizing rendered_html">
<p>A While loop consists of the following:</p>
<div class="highlight"><pre><span></span><span class="k">while</span> <span class="n">condition</span><span class="p">:</span>
    <span class="n">do</span> <span class="n">something</span> <span class="n">cool</span>
</pre></div>

</div>
</div>
</div></div><div class="fragment">
<div class="cell border-box-sizing code_cell rendered">
<div class="input">
<div class="prompt input_prompt">In&nbsp;[33]:</div>
<div class="inner_cell">
    <div class="input_area">
<div class=" highlight hl-ipython3"><pre><span></span><span class="n">nMax</span> <span class="o">=</span> <span class="mi">3</span>
<span class="n">n</span> <span class="o">=</span> <span class="mi">0</span>
<span class="k">while</span> <span class="n">n</span> <span class="o">&lt;</span> <span class="n">nMax</span><span class="p">:</span>
    <span class="nb">print</span> <span class="p">(</span><span class="s1">&#39;n =&#39;</span><span class="p">,</span> <span class="n">n</span><span class="p">)</span>
    <span class="n">n</span> <span class="o">+=</span> <span class="mi">1</span>
</pre></div>

    </div>
</div>
</div>

<div class="output_wrapper">
<div class="output">


<div class="output_area">

    <div class="prompt"></div>


<div class="output_subarea output_stream output_stdout output_text">
<pre>n = 0
n = 1
n = 2
</pre>
</div>
</div>

</div>
</div>

</div></div></section></section><section><section>
<div class="cell border-box-sizing text_cell rendered"><div class="prompt input_prompt">
</div><div class="inner_cell">
<div class="text_cell_render border-box-sizing rendered_html">
<p>Sometimes, you need to do something special if the condition of the while loop is not satisfied. You can use an else statement in that case:</p>
<div class="highlight"><pre><span></span><span class="k">while</span> <span class="n">condition</span><span class="p">:</span>
    <span class="n">do</span> <span class="n">something</span> <span class="k">as</span> <span class="nb">long</span> <span class="k">as</span> <span class="n">condition</span> <span class="ow">is</span> <span class="n">true</span>
<span class="k">else</span><span class="p">:</span>
    <span class="n">do</span> <span class="n">something</span> <span class="k">else</span> <span class="n">when</span> <span class="n">condition</span> <span class="ow">is</span> <span class="n">no</span> <span class="n">longer</span> <span class="n">true</span>
</pre></div>

</div>
</div>
</div><div class="fragment">
<div class="cell border-box-sizing code_cell rendered">
<div class="input">
<div class="prompt input_prompt">In&nbsp;[4]:</div>
<div class="inner_cell">
    <div class="input_area">
<div class=" highlight hl-ipython3"><pre><span></span><span class="n">nMax</span> <span class="o">=</span> <span class="mi">3</span>
<span class="n">n</span> <span class="o">=</span> <span class="mi">0</span>
<span class="k">while</span> <span class="n">n</span> <span class="o">&lt;</span> <span class="n">nMax</span><span class="p">:</span>
    <span class="nb">print</span> <span class="p">(</span><span class="s1">&#39;n =&#39;</span><span class="p">,</span> <span class="n">n</span><span class="p">)</span>
    <span class="n">n</span> <span class="o">+=</span> <span class="mi">1</span>
<span class="k">else</span><span class="p">:</span>
    <span class="nb">print</span><span class="p">(</span><span class="s2">&quot;Done!&quot;</span><span class="p">)</span>
</pre></div>

    </div>
</div>
</div>

<div class="output_wrapper">
<div class="output">


<div class="output_area">

    <div class="prompt"></div>


<div class="output_subarea output_stream output_stdout output_text">
<pre>n = 0
n = 1
n = 2
Done!
</pre>
</div>
</div>

</div>
</div>

</div></div></section></section><section><section>
<div class="cell border-box-sizing text_cell rendered"><div class="prompt input_prompt">
</div><div class="inner_cell">
<div class="text_cell_render border-box-sizing rendered_html">
<h3 id="For-Loops">For Loops<a class="anchor-link" href="#For-Loops">&#182;</a></h3>
</div>
</div>
</div><div class="fragment">
<div class="cell border-box-sizing text_cell rendered"><div class="prompt input_prompt">
</div><div class="inner_cell">
<div class="text_cell_render border-box-sizing rendered_html">
<p>One of the greatest features of python is that almost everything is iterable! If you have a collection of things, you can simply use a for loop to go through the list:</p>
<div class="highlight"><pre><span></span><span class="k">for</span> <span class="n">item</span> <span class="ow">in</span> <span class="n">sequence</span><span class="p">:</span>
    <span class="n">do</span> <span class="n">something</span>
</pre></div>

</div>
</div>
</div></div><div class="fragment">
<div class="cell border-box-sizing code_cell rendered">
<div class="input">
<div class="prompt input_prompt">In&nbsp;[34]:</div>
<div class="inner_cell">
    <div class="input_area">
<div class=" highlight hl-ipython3"><pre><span></span><span class="n">a</span> <span class="o">=</span> <span class="p">[</span><span class="mi">1</span><span class="p">,</span><span class="mi">4</span><span class="p">,</span><span class="mi">5</span><span class="p">,</span><span class="mi">6</span><span class="p">,</span><span class="mi">7</span><span class="p">]</span>
<span class="k">for</span> <span class="n">val</span> <span class="ow">in</span> <span class="n">a</span><span class="p">:</span> <span class="c1"># iterate or loop through the items in a</span>
    <span class="nb">print</span><span class="p">(</span><span class="n">val</span><span class="p">)</span>
</pre></div>

    </div>
</div>
</div>

<div class="output_wrapper">
<div class="output">


<div class="output_area">

    <div class="prompt"></div>


<div class="output_subarea output_stream output_stdout output_text">
<pre>1
4
5
6
7
</pre>
</div>
</div>

</div>
</div>

</div></div></section></section><section><section>
<div class="cell border-box-sizing text_cell rendered"><div class="prompt input_prompt">
</div><div class="inner_cell">
<div class="text_cell_render border-box-sizing rendered_html">
<p>The other way to do this is to loop through a range using the <code>range</code> function:</p>

</div>
</div>
</div><div class="fragment">
<div class="cell border-box-sizing code_cell rendered">
<div class="input">
<div class="prompt input_prompt">In&nbsp;[35]:</div>
<div class="inner_cell">
    <div class="input_area">
<div class=" highlight hl-ipython3"><pre><span></span><span class="nb">print</span><span class="p">(</span><span class="s1">&#39;i a[i]&#39;</span><span class="p">)</span>
<span class="nb">print</span><span class="p">(</span><span class="s1">&#39;------&#39;</span><span class="p">)</span>
<span class="k">for</span> <span class="n">i</span> <span class="ow">in</span> <span class="nb">range</span><span class="p">(</span><span class="mi">0</span><span class="p">,</span><span class="mi">3</span><span class="p">):</span>
    <span class="nb">print</span> <span class="p">(</span><span class="n">i</span><span class="p">,</span><span class="s1">&#39; &#39;</span><span class="p">,</span> <span class="n">a</span><span class="p">[</span><span class="n">i</span><span class="p">])</span>
</pre></div>

    </div>
</div>
</div>

<div class="output_wrapper">
<div class="output">


<div class="output_area">

    <div class="prompt"></div>


<div class="output_subarea output_stream output_stdout output_text">
<pre>i a[i]
------
0   1
1   4
2   5
</pre>
</div>
</div>

</div>
</div>

</div></div><div class="fragment">
<div class="cell border-box-sizing text_cell rendered"><div class="prompt input_prompt">
</div><div class="inner_cell">
<div class="text_cell_render border-box-sizing rendered_html">
<p>The <code>range</code> function returns a sequence of numbers:</p>
<div class="highlight"><pre><span></span><span class="nb">range</span><span class="p">(</span><span class="n">nMin</span><span class="p">,</span> <span class="n">nMax</span><span class="p">)</span> <span class="o">=</span> <span class="p">[</span><span class="n">nMin</span><span class="p">,</span> <span class="n">nMin</span> <span class="o">+</span> <span class="mi">1</span><span class="p">,</span> <span class="n">nMin</span> <span class="o">+</span> <span class="mi">2</span><span class="p">,</span> <span class="o">...</span><span class="p">,</span> <span class="n">nMax</span> <span class="o">-</span><span class="mi">1</span><span class="p">]</span>
</pre></div>

</div>
</div>
</div></div></section></section><section><section>
<div class="cell border-box-sizing text_cell rendered"><div class="prompt input_prompt">
</div><div class="inner_cell">
<div class="text_cell_render border-box-sizing rendered_html">
<p>As usual, you can <code>break</code> and <code>continue</code> for loops.</p>

</div>
</div>
</div><div class="fragment">
<div class="cell border-box-sizing code_cell rendered">
<div class="input">
<div class="prompt input_prompt">In&nbsp;[36]:</div>
<div class="inner_cell">
    <div class="input_area">
<div class=" highlight hl-ipython3"><pre><span></span><span class="c1"># example of breaking a for loop</span>
<span class="n">seq</span> <span class="o">=</span> <span class="p">[</span><span class="mi">1</span><span class="p">,</span><span class="mi">3</span><span class="p">,</span><span class="mi">45</span><span class="p">,</span><span class="mi">2</span><span class="p">,</span><span class="mi">4</span><span class="p">]</span>
<span class="k">for</span> <span class="n">val</span> <span class="ow">in</span> <span class="n">seq</span><span class="p">:</span>
    <span class="k">if</span> <span class="p">(</span><span class="n">val</span> <span class="o">==</span> <span class="mi">2</span><span class="p">):</span>
        <span class="nb">print</span><span class="p">(</span><span class="s1">&#39;found value - exiting loop.&#39;</span><span class="p">)</span>
        <span class="k">break</span>
    <span class="nb">print</span><span class="p">(</span><span class="n">val</span><span class="p">)</span>
        
</pre></div>

    </div>
</div>
</div>

<div class="output_wrapper">
<div class="output">


<div class="output_area">

    <div class="prompt"></div>


<div class="output_subarea output_stream output_stdout output_text">
<pre>1
3
45
found value - exiting loop.
</pre>
</div>
</div>

</div>
</div>

</div></div><div class="fragment">
<div class="cell border-box-sizing code_cell rendered">
<div class="input">
<div class="prompt input_prompt">In&nbsp;[37]:</div>
<div class="inner_cell">
    <div class="input_area">
<div class=" highlight hl-ipython3"><pre><span></span><span class="c1"># example of continue in a for loop</span>
<span class="n">x</span> <span class="o">=</span> <span class="p">[]</span>                   <span class="c1"># Create an empty list</span>
<span class="k">for</span> <span class="n">i</span> <span class="ow">in</span> <span class="nb">range</span><span class="p">(</span><span class="mi">1</span><span class="p">,</span><span class="mi">100</span><span class="p">):</span>
  <span class="k">if</span> <span class="n">i</span><span class="o">%</span><span class="k">7</span> != 0: continue  # If not divisible by 7, skip rest of loop
  <span class="n">x</span><span class="o">.</span><span class="n">append</span><span class="p">(</span><span class="n">i</span><span class="p">)</span>            <span class="c1"># Append i to the list</span>
<span class="nb">print</span><span class="p">(</span><span class="n">x</span><span class="p">)</span>
</pre></div>

    </div>
</div>
</div>

<div class="output_wrapper">
<div class="output">


<div class="output_area">

    <div class="prompt"></div>


<div class="output_subarea output_stream output_stdout output_text">
<pre>[7, 14, 21, 28, 35, 42, 49, 56, 63, 70, 77, 84, 91, 98]
</pre>
</div>
</div>

</div>
</div>

</div></div></section></section><section><section>
<div class="cell border-box-sizing text_cell rendered"><div class="prompt input_prompt">
</div><div class="inner_cell">
<div class="text_cell_render border-box-sizing rendered_html">
<h1 id="Functions">Functions<a class="anchor-link" href="#Functions">&#182;</a></h1>
</div>
</div>
</div><div class="fragment">
<div class="cell border-box-sizing text_cell rendered"><div class="prompt input_prompt">
</div><div class="inner_cell">
<div class="text_cell_render border-box-sizing rendered_html">
<p>Functions in Python are defined using the following convention:</p>
<div class="highlight"><pre><span></span><span class="k">def</span> <span class="nf">function</span><span class="p">(</span><span class="n">arg1</span><span class="p">,</span> <span class="n">arg2</span><span class="p">,</span> <span class="o">...</span><span class="p">):</span>
    <span class="n">statements</span>
    <span class="k">return</span> <span class="n">return_values</span>
</pre></div>
<p>where <code>arg1, arg2, ...</code> are the function arguments. Arguments can be any Python objects and even other functions. They can be given defaults values which makes using the argument optional.</p>

</div>
</div>
</div></div></section></section><section><section>
<div class="cell border-box-sizing text_cell rendered"><div class="prompt input_prompt">
</div><div class="inner_cell">
<div class="text_cell_render border-box-sizing rendered_html">
<p>Let's now define a function that computes first and second derivatives of any differentiable function. Here's what our function looks like:</p>

</div>
</div>
</div><div class="fragment">
<div class="cell border-box-sizing code_cell rendered">
<div class="input">
<div class="prompt input_prompt">In&nbsp;[38]:</div>
<div class="inner_cell">
    <div class="input_area">
<div class=" highlight hl-ipython3"><pre><span></span><span class="k">def</span> <span class="nf">derivatives</span><span class="p">(</span><span class="n">f</span><span class="p">,</span><span class="n">x</span><span class="p">,</span><span class="n">h</span><span class="o">=</span><span class="mf">0.0001</span><span class="p">):</span>  <span class="c1"># h has a default value, </span>
    <span class="n">df</span> <span class="o">=</span><span class="p">(</span><span class="n">f</span><span class="p">(</span><span class="n">x</span><span class="o">+</span><span class="n">h</span><span class="p">)</span> <span class="o">-</span> <span class="n">f</span><span class="p">(</span><span class="n">x</span><span class="o">-</span><span class="n">h</span><span class="p">))</span><span class="o">/</span><span class="p">(</span><span class="mf">2.0</span><span class="o">*</span><span class="n">h</span><span class="p">)</span> <span class="c1"># compute first dervative</span>
    <span class="n">ddf</span> <span class="o">=</span><span class="p">(</span><span class="n">f</span><span class="p">(</span><span class="n">x</span><span class="o">+</span><span class="n">h</span><span class="p">)</span> <span class="o">-</span> <span class="mf">2.0</span><span class="o">*</span><span class="n">f</span><span class="p">(</span><span class="n">x</span><span class="p">)</span> <span class="o">+</span> <span class="n">f</span><span class="p">(</span><span class="n">x</span><span class="o">-</span><span class="n">h</span><span class="p">))</span><span class="o">/</span><span class="n">h</span><span class="o">**</span><span class="mi">2</span> <span class="c1"># compute second derivative</span>
    <span class="k">return</span> <span class="n">df</span><span class="p">,</span><span class="n">ddf</span> <span class="c1"># return first &amp; second derivatives</span>
</pre></div>

    </div>
</div>
</div>

</div></div><div class="fragment">
<div class="cell border-box-sizing text_cell rendered"><div class="prompt input_prompt">
</div><div class="inner_cell">
<div class="text_cell_render border-box-sizing rendered_html">
<p>Let's now call <code>derivatives</code> on the inverse tangent function (<code>atan</code>)</p>

</div>
</div>
</div></div><div class="fragment">
<div class="cell border-box-sizing code_cell rendered">
<div class="input">
<div class="prompt input_prompt">In&nbsp;[39]:</div>
<div class="inner_cell">
    <div class="input_area">
<div class=" highlight hl-ipython3"><pre><span></span><span class="kn">from</span> <span class="nn">math</span> <span class="k">import</span> <span class="n">atan</span> <span class="c1"># we need to import atan from the math module - you&#39;ll learn this later</span>
<span class="n">df</span><span class="p">,</span> <span class="n">ddf</span> <span class="o">=</span> <span class="n">derivatives</span><span class="p">(</span><span class="n">atan</span><span class="p">,</span> <span class="mf">1.3</span><span class="p">)</span> <span class="c1"># call the derivatives function on atan at the point x = 1.3</span>
<span class="nb">print</span><span class="p">(</span><span class="n">df</span><span class="p">,</span><span class="n">ddf</span><span class="p">)</span> <span class="c1"># print the results</span>
</pre></div>

    </div>
</div>
</div>

<div class="output_wrapper">
<div class="output">


<div class="output_area">

    <div class="prompt"></div>


<div class="output_subarea output_stream output_stdout output_text">
<pre>0.3717472125930321 -0.3593095820875192
</pre>
</div>
</div>

</div>
</div>

</div></div></section></section><section><section>
<div class="cell border-box-sizing text_cell rendered"><div class="prompt input_prompt">
</div><div class="inner_cell">
<div class="text_cell_render border-box-sizing rendered_html">
<p>Functions can be documented using docstring.</p>

</div>
</div>
</div><div class="fragment">
<div class="cell border-box-sizing code_cell rendered">
<div class="input">
<div class="prompt input_prompt">In&nbsp;[40]:</div>
<div class="inner_cell">
    <div class="input_area">
<div class=" highlight hl-ipython3"><pre><span></span><span class="k">def</span> <span class="nf">my_function</span><span class="p">(</span><span class="n">x</span><span class="p">,</span><span class="n">y</span><span class="p">,</span><span class="n">a</span><span class="p">):</span>
    <span class="sd">&quot;&quot;&quot;The function&#39;s documentation goes here. you can add whatever description you like.</span>
<span class="sd">    Arguments:</span>
<span class="sd">        x: axial position</span>
<span class="sd">        y: vertical position</span>
<span class="sd">        a: acceleration</span>
<span class="sd">    Todo:</span>
<span class="sd">        * add error checking</span>
<span class="sd">    &quot;&quot;&quot;</span>
    <span class="k">return</span> <span class="n">x</span><span class="o">*</span><span class="n">y</span> <span class="o">+</span> <span class="n">a</span>
</pre></div>

    </div>
</div>
</div>

</div></div></section></section><section><section>
<div class="cell border-box-sizing text_cell rendered"><div class="prompt input_prompt">
</div><div class="inner_cell">
<div class="text_cell_render border-box-sizing rendered_html">
<p>Your documentation will look something like this:
<img src="python_doc_example.png" alt=""></p>

</div>
</div>
</div></section></section><section><section>
<div class="cell border-box-sizing text_cell rendered"><div class="prompt input_prompt">
</div><div class="inner_cell">
<div class="text_cell_render border-box-sizing rendered_html">
<p>Functions can be defined inline in a python file (just like we did here), or, they can be placed in <strong><code>modules</code></strong>.</p>

</div>
</div>
</div></section></section><section><section>
<div class="cell border-box-sizing text_cell rendered"><div class="prompt input_prompt">
</div><div class="inner_cell">
<div class="text_cell_render border-box-sizing rendered_html">
<h1 id="Modules">Modules<a class="anchor-link" href="#Modules">&#182;</a></h1>
</div>
</div>
</div><div class="fragment">
<div class="cell border-box-sizing text_cell rendered"><div class="prompt input_prompt">
</div><div class="inner_cell">
<div class="text_cell_render border-box-sizing rendered_html">
<p>Modules consist of a collection of functions and placed together in a module for convenience. Functions in a module can be accessed by <em>importing</em> them from the module</p>
<div class="highlight"><pre><span></span><span class="kn">from</span> <span class="nn">module_name</span> <span class="kn">import</span> <span class="n">function</span>
</pre></div>

</div>
</div>
</div></div><div class="fragment">
<div class="cell border-box-sizing text_cell rendered"><div class="prompt input_prompt">
</div><div class="inner_cell">
<div class="text_cell_render border-box-sizing rendered_html">
<p>Modules are simply Python files (.py). The module name is the same as the filename.</p>

</div>
</div>
</div></div></section></section><section><section>
<div class="cell border-box-sizing text_cell rendered"><div class="prompt input_prompt">
</div><div class="inner_cell">
<div class="text_cell_render border-box-sizing rendered_html">
<h2 id="Accessing-Functions-in-a-Module">Accessing Functions in a Module<a class="anchor-link" href="#Accessing-Functions-in-a-Module">&#182;</a></h2>
</div>
</div>
</div><div class="fragment">
<div class="cell border-box-sizing text_cell rendered"><div class="prompt input_prompt">
</div><div class="inner_cell">
<div class="text_cell_render border-box-sizing rendered_html">
<p>There are three ways to access functions in a module:</p>

</div>
</div>
</div></div><div class="fragment">
<div class="cell border-box-sizing text_cell rendered"><div class="prompt input_prompt">
</div><div class="inner_cell">
<div class="text_cell_render border-box-sizing rendered_html">
<div class="highlight"><pre><span></span><span class="kn">from</span> <span class="nn">module_name</span> <span class="kn">import</span> <span class="o">*</span>
</pre></div>
<p>Which loas ALL functions in the module. While this is certainly allowed, it is (1) wasteful since Python will load all functions definitions into memory, and (2) it can lead to ambiguity if other modules have similar function defitions. For example, the <code>sine</code> function is defined in the modules: <code>math</code>, <code>cmath</code>, and <code>numpy</code>.</p>

</div>
</div>
</div></div><div class="fragment">
<div class="cell border-box-sizing code_cell rendered">
<div class="input">
<div class="prompt input_prompt">In&nbsp;[41]:</div>
<div class="inner_cell">
    <div class="input_area">
<div class=" highlight hl-ipython3"><pre><span></span><span class="kn">from</span> <span class="nn">math</span> <span class="k">import</span> <span class="o">*</span>
<span class="nb">print</span><span class="p">(</span><span class="n">exp</span><span class="p">(</span><span class="mf">0.1</span><span class="p">))</span>
</pre></div>

    </div>
</div>
</div>

<div class="output_wrapper">
<div class="output">


<div class="output_area">

    <div class="prompt"></div>


<div class="output_subarea output_stream output_stdout output_text">
<pre>1.1051709180756477
</pre>
</div>
</div>

</div>
</div>

</div></div></section></section><section><section>
<div class="cell border-box-sizing text_cell rendered"><div class="prompt input_prompt">
</div><div class="inner_cell">
<div class="text_cell_render border-box-sizing rendered_html">
<div class="highlight"><pre><span></span><span class="kn">from</span> <span class="nn">module_name</span> <span class="kn">import</span> <span class="n">function1</span><span class="p">,</span> <span class="n">function2</span><span class="p">,</span><span class="o">...</span>
</pre></div>
<p>Imports only the specified functions from the module. This is certainly safer but may lead to conflicts if you're not careful</p>

</div>
</div>
</div><div class="fragment">
<div class="cell border-box-sizing code_cell rendered">
<div class="input">
<div class="prompt input_prompt">In&nbsp;[42]:</div>
<div class="inner_cell">
    <div class="input_area">
<div class=" highlight hl-ipython3"><pre><span></span><span class="kn">from</span> <span class="nn">math</span> <span class="k">import</span> <span class="n">exp</span><span class="p">,</span> <span class="n">log</span><span class="p">,</span> <span class="n">sinh</span>
<span class="n">x</span> <span class="o">=</span> <span class="mf">0.23</span>
<span class="nb">print</span><span class="p">(</span><span class="n">exp</span><span class="p">(</span><span class="n">x</span><span class="o">**</span><span class="mi">2</span><span class="p">)</span> <span class="o">+</span> <span class="n">log</span><span class="p">(</span><span class="n">x</span><span class="p">)</span> <span class="o">-</span> <span class="n">sinh</span><span class="p">(</span><span class="n">x</span><span class="o">/</span><span class="mi">2</span><span class="p">))</span>
</pre></div>

    </div>
</div>
</div>

<div class="output_wrapper">
<div class="output">


<div class="output_area">

    <div class="prompt"></div>


<div class="output_subarea output_stream output_stdout output_text">
<pre>-0.5306054094646787
</pre>
</div>
</div>

</div>
</div>

</div></div></section></section><section><section>
<div class="cell border-box-sizing text_cell rendered"><div class="prompt input_prompt">
</div><div class="inner_cell">
<div class="text_cell_render border-box-sizing rendered_html">
<div class="highlight"><pre><span></span><span class="kn">import</span> <span class="nn">module_name</span>
</pre></div>
<p>Imports the module which allows you to access function definitions in the module using: <code>module_name.function1</code> etc...
This is by far the least ambiguous path.</p>

</div>
</div>
</div><div class="fragment">
<div class="cell border-box-sizing text_cell rendered"><div class="prompt input_prompt">
</div><div class="inner_cell">
<div class="text_cell_render border-box-sizing rendered_html">
<p>You can also nickname a module for easy access</p>
<div class="highlight"><pre><span></span><span class="kn">import</span> <span class="nn">module_name</span> <span class="kn">as</span> <span class="nn">m</span>
</pre></div>
<p>Then, you'd access functions in <code>module_name</code> using: <code>m.function1</code>.</p>

</div>
</div>
</div></div><div class="fragment">
<div class="cell border-box-sizing code_cell rendered">
<div class="input">
<div class="prompt input_prompt">In&nbsp;[43]:</div>
<div class="inner_cell">
    <div class="input_area">
<div class=" highlight hl-ipython3"><pre><span></span><span class="kn">import</span> <span class="nn">cmath</span> <span class="k">as</span> <span class="nn">cm</span> <span class="c1"># cmath library supports complex numbers</span>
<span class="n">π</span> <span class="o">=</span> <span class="n">cm</span><span class="o">.</span><span class="n">pi</span> <span class="c1"># define pi</span>
<span class="n">x</span> <span class="o">=</span> <span class="n">π</span><span class="o">*</span><span class="mi">1</span><span class="n">j</span> <span class="c1"># complex number</span>
<span class="n">cm</span><span class="o">.</span><span class="n">exp</span><span class="p">(</span><span class="n">x</span><span class="p">)</span> <span class="c1"># e^(iπ) = -1</span>
</pre></div>

    </div>
</div>
</div>

<div class="output_wrapper">
<div class="output">


<div class="output_area">

    <div class="prompt output_prompt">Out[43]:</div>




<div class="output_text output_subarea output_execute_result">
<pre>(-1+1.2246467991473532e-16j)</pre>
</div>

</div>

</div>
</div>

</div></div></section></section><section><section>
<div class="cell border-box-sizing text_cell rendered"><div class="prompt input_prompt">
</div><div class="inner_cell">
<div class="text_cell_render border-box-sizing rendered_html">
<p>The contents of a module can be listed using:</p>
<div class="highlight"><pre><span></span><span class="nb">dir</span><span class="p">(</span><span class="n">module_name</span><span class="p">)</span>
</pre></div>

</div>
</div>
</div><div class="fragment">
<div class="cell border-box-sizing code_cell rendered">
<div class="input">
<div class="prompt input_prompt">In&nbsp;[44]:</div>
<div class="inner_cell">
    <div class="input_area">
<div class=" highlight hl-ipython3"><pre><span></span><span class="kn">import</span> <span class="nn">math</span>
<span class="nb">dir</span><span class="p">(</span><span class="n">math</span><span class="p">)</span>
</pre></div>

    </div>
</div>
</div>

<div class="output_wrapper">
<div class="output">


<div class="output_area">

    <div class="prompt output_prompt">Out[44]:</div>




<div class="output_text output_subarea output_execute_result">
<pre>[&#39;__doc__&#39;,
 &#39;__file__&#39;,
 &#39;__loader__&#39;,
 &#39;__name__&#39;,
 &#39;__package__&#39;,
 &#39;__spec__&#39;,
 &#39;acos&#39;,
 &#39;acosh&#39;,
 &#39;asin&#39;,
 &#39;asinh&#39;,
 &#39;atan&#39;,
 &#39;atan2&#39;,
 &#39;atanh&#39;,
 &#39;ceil&#39;,
 &#39;copysign&#39;,
 &#39;cos&#39;,
 &#39;cosh&#39;,
 &#39;degrees&#39;,
 &#39;e&#39;,
 &#39;erf&#39;,
 &#39;erfc&#39;,
 &#39;exp&#39;,
 &#39;expm1&#39;,
 &#39;fabs&#39;,
 &#39;factorial&#39;,
 &#39;floor&#39;,
 &#39;fmod&#39;,
 &#39;frexp&#39;,
 &#39;fsum&#39;,
 &#39;gamma&#39;,
 &#39;gcd&#39;,
 &#39;hypot&#39;,
 &#39;inf&#39;,
 &#39;isclose&#39;,
 &#39;isfinite&#39;,
 &#39;isinf&#39;,
 &#39;isnan&#39;,
 &#39;ldexp&#39;,
 &#39;lgamma&#39;,
 &#39;log&#39;,
 &#39;log10&#39;,
 &#39;log1p&#39;,
 &#39;log2&#39;,
 &#39;modf&#39;,
 &#39;nan&#39;,
 &#39;pi&#39;,
 &#39;pow&#39;,
 &#39;radians&#39;,
 &#39;sin&#39;,
 &#39;sinh&#39;,
 &#39;sqrt&#39;,
 &#39;tan&#39;,
 &#39;tanh&#39;,
 &#39;tau&#39;,
 &#39;trunc&#39;]</pre>
</div>

</div>

</div>
</div>

</div></div></section></section><section><section>
<div class="cell border-box-sizing text_cell rendered"><div class="prompt input_prompt">
</div><div class="inner_cell">
<div class="text_cell_render border-box-sizing rendered_html">
<p>Another module that you may find useful is the <code>cmath</code> module. It supports the same functions as the <code>math</code> module but allows the use of complex numbers for function arguments.</p>

</div>
</div>
</div><div class="fragment">
<div class="cell border-box-sizing code_cell rendered">
<div class="input">
<div class="prompt input_prompt">In&nbsp;[45]:</div>
<div class="inner_cell">
    <div class="input_area">
<div class=" highlight hl-ipython3"><pre><span></span><span class="kn">import</span> <span class="nn">cmath</span>
<span class="nb">dir</span><span class="p">(</span><span class="n">cmath</span><span class="p">)</span>
</pre></div>

    </div>
</div>
</div>

<div class="output_wrapper">
<div class="output">


<div class="output_area">

    <div class="prompt output_prompt">Out[45]:</div>




<div class="output_text output_subarea output_execute_result">
<pre>[&#39;__doc__&#39;,
 &#39;__file__&#39;,
 &#39;__loader__&#39;,
 &#39;__name__&#39;,
 &#39;__package__&#39;,
 &#39;__spec__&#39;,
 &#39;acos&#39;,
 &#39;acosh&#39;,
 &#39;asin&#39;,
 &#39;asinh&#39;,
 &#39;atan&#39;,
 &#39;atanh&#39;,
 &#39;cos&#39;,
 &#39;cosh&#39;,
 &#39;e&#39;,
 &#39;exp&#39;,
 &#39;inf&#39;,
 &#39;infj&#39;,
 &#39;isclose&#39;,
 &#39;isfinite&#39;,
 &#39;isinf&#39;,
 &#39;isnan&#39;,
 &#39;log&#39;,
 &#39;log10&#39;,
 &#39;nan&#39;,
 &#39;nanj&#39;,
 &#39;phase&#39;,
 &#39;pi&#39;,
 &#39;polar&#39;,
 &#39;rect&#39;,
 &#39;sin&#39;,
 &#39;sinh&#39;,
 &#39;sqrt&#39;,
 &#39;tan&#39;,
 &#39;tanh&#39;,
 &#39;tau&#39;]</pre>
</div>

</div>

</div>
</div>

</div></div></section></section><section><section>
<div class="cell border-box-sizing text_cell rendered"><div class="prompt input_prompt">
</div><div class="inner_cell">
<div class="text_cell_render border-box-sizing rendered_html">
<h1 id="The-Almighty-numpy">The Almighty numpy<a class="anchor-link" href="#The-Almighty-numpy">&#182;</a></h1>
</div>
</div>
</div><div class="fragment">
<div class="cell border-box-sizing text_cell rendered"><div class="prompt input_prompt">
</div><div class="inner_cell">
<div class="text_cell_render border-box-sizing rendered_html">
<p>Numpy is one of the most famous python libraries for scientific computing. <code>num</code> stands for numerical and <code>py</code> stands for python (yeah, Python programmers are obsessed with using <code>py</code> in naming their projects). Numpy is the standard library for numerical computing with python. It provides powerful array functionality that beats python lists. Let's look at some numpy features.</p>

</div>
</div>
</div></div></section></section><section><section>
<div class="cell border-box-sizing text_cell rendered"><div class="prompt input_prompt">
</div><div class="inner_cell">
<div class="text_cell_render border-box-sizing rendered_html">
<h2 id="Numpy-Arrays">Numpy Arrays<a class="anchor-link" href="#Numpy-Arrays">&#182;</a></h2>
</div>
</div>
</div><div class="fragment">
<div class="cell border-box-sizing text_cell rendered"><div class="prompt input_prompt">
</div><div class="inner_cell">
<div class="text_cell_render border-box-sizing rendered_html">
<p>Numpy arrays are similar to Python lists but can be manipulated in fantastic ways by other functions in the numpy library. They are by far the standard in python-based scientific computing. See <a href="https://docs.scipy.org/doc/numpy/reference/generated/numpy.array.html">here for more details</a>.</p>

</div>
</div>
</div></div></section></section><section><section>
<div class="cell border-box-sizing text_cell rendered"><div class="prompt input_prompt">
</div><div class="inner_cell">
<div class="text_cell_render border-box-sizing rendered_html">
<p>A numpy array can be created several ways. It can be created from a list</p>

</div>
</div>
</div><div class="fragment">
<div class="cell border-box-sizing code_cell rendered">
<div class="input">
<div class="prompt input_prompt">In&nbsp;[46]:</div>
<div class="inner_cell">
    <div class="input_area">
<div class=" highlight hl-ipython3"><pre><span></span><span class="kn">import</span> <span class="nn">numpy</span> <span class="k">as</span> <span class="nn">np</span>  <span class="c1"># don&#39;t forget to import numpy</span>
<span class="n">myList</span> <span class="o">=</span> <span class="p">[[</span><span class="mi">2</span><span class="p">,</span><span class="mi">4</span><span class="p">],[</span><span class="mi">2</span><span class="p">,</span><span class="mi">3</span><span class="p">]]</span> <span class="c1">#</span>
<span class="n">a</span> <span class="o">=</span> <span class="n">np</span><span class="o">.</span><span class="n">array</span><span class="p">(</span><span class="n">myList</span><span class="p">)</span>
<span class="nb">print</span><span class="p">(</span><span class="n">a</span><span class="p">)</span>
</pre></div>

    </div>
</div>
</div>

<div class="output_wrapper">
<div class="output">


<div class="output_area">

    <div class="prompt"></div>


<div class="output_subarea output_stream output_stdout output_text">
<pre>[[2 4]
 [2 3]]
</pre>
</div>
</div>

</div>
</div>

</div></div><div class="fragment">
<div class="cell border-box-sizing text_cell rendered"><div class="prompt input_prompt">
</div><div class="inner_cell">
<div class="text_cell_render border-box-sizing rendered_html">
<p>It can also be created from a tuple</p>

</div>
</div>
</div></div><div class="fragment">
<div class="cell border-box-sizing code_cell rendered">
<div class="input">
<div class="prompt input_prompt">In&nbsp;[47]:</div>
<div class="inner_cell">
    <div class="input_area">
<div class=" highlight hl-ipython3"><pre><span></span><span class="n">myTuple</span> <span class="o">=</span> <span class="p">(</span><span class="mi">1</span><span class="p">,</span><span class="mi">2</span><span class="p">,</span><span class="mi">3</span><span class="p">)</span>
<span class="n">a</span> <span class="o">=</span> <span class="n">np</span><span class="o">.</span><span class="n">array</span><span class="p">(</span><span class="n">myTuple</span><span class="p">)</span>
<span class="nb">print</span><span class="p">(</span><span class="n">a</span><span class="p">)</span>
</pre></div>

    </div>
</div>
</div>

<div class="output_wrapper">
<div class="output">


<div class="output_area">

    <div class="prompt"></div>


<div class="output_subarea output_stream output_stdout output_text">
<pre>[1 2 3]
</pre>
</div>
</div>

</div>
</div>

</div></div></section></section><section><section>
<div class="cell border-box-sizing text_cell rendered"><div class="prompt input_prompt">
</div><div class="inner_cell">
<div class="text_cell_render border-box-sizing rendered_html">
<p>You can initialize empty numpy arrays:</p>

</div>
</div>
</div><div class="fragment">
<div class="cell border-box-sizing code_cell rendered">
<div class="input">
<div class="prompt input_prompt">In&nbsp;[48]:</div>
<div class="inner_cell">
    <div class="input_area">
<div class=" highlight hl-ipython3"><pre><span></span><span class="n">a</span> <span class="o">=</span> <span class="n">np</span><span class="o">.</span><span class="n">empty</span><span class="p">((</span><span class="mi">2</span><span class="p">,</span><span class="mi">2</span><span class="p">))</span> <span class="c1"># 2x2 array</span>
<span class="nb">print</span><span class="p">(</span><span class="n">a</span><span class="p">)</span>
</pre></div>

    </div>
</div>
</div>

<div class="output_wrapper">
<div class="output">


<div class="output_area">

    <div class="prompt"></div>


<div class="output_subarea output_stream output_stdout output_text">
<pre>[[-2.00000000e+000  3.11107857e+231]
 [-2.00000000e+000  2.82464218e-309]]
</pre>
</div>
</div>

</div>
</div>

</div></div><div class="fragment">
<div class="cell border-box-sizing text_cell rendered"><div class="prompt input_prompt">
</div><div class="inner_cell">
<div class="text_cell_render border-box-sizing rendered_html">
<p>You can also create arrays of zeros or ones:</p>

</div>
</div>
</div></div><div class="fragment">
<div class="cell border-box-sizing code_cell rendered">
<div class="input">
<div class="prompt input_prompt">In&nbsp;[49]:</div>
<div class="inner_cell">
    <div class="input_area">
<div class=" highlight hl-ipython3"><pre><span></span><span class="n">a</span> <span class="o">=</span> <span class="n">np</span><span class="o">.</span><span class="n">zeros</span><span class="p">((</span><span class="mi">3</span><span class="p">,</span><span class="mi">3</span><span class="p">))</span>
<span class="n">b</span> <span class="o">=</span> <span class="n">np</span><span class="o">.</span><span class="n">ones</span><span class="p">((</span><span class="mi">2</span><span class="p">,</span><span class="mi">2</span><span class="p">))</span>
<span class="nb">print</span><span class="p">(</span><span class="n">a</span><span class="p">)</span>
<span class="nb">print</span><span class="p">(</span><span class="n">b</span><span class="p">)</span>
</pre></div>

    </div>
</div>
</div>

<div class="output_wrapper">
<div class="output">


<div class="output_area">

    <div class="prompt"></div>


<div class="output_subarea output_stream output_stdout output_text">
<pre>[[0. 0. 0.]
 [0. 0. 0.]
 [0. 0. 0.]]
[[1. 1.]
 [1. 1.]]
</pre>
</div>
</div>

</div>
</div>

</div></div></section></section><section><section>
<div class="cell border-box-sizing text_cell rendered"><div class="prompt input_prompt">
</div><div class="inner_cell">
<div class="text_cell_render border-box-sizing rendered_html">
<p>One useful numpy function is <code>arange</code>. It works like the standard <code>range</code> function, but returns an array instead of a sequence. It looks like this:</p>
<div class="highlight"><pre><span></span><span class="n">arange</span><span class="p">(</span><span class="n">start</span><span class="p">,</span> <span class="n">stop</span><span class="p">,</span> <span class="n">step</span><span class="p">)</span>
</pre></div>

</div>
</div>
</div><div class="fragment">
<div class="cell border-box-sizing code_cell rendered">
<div class="input">
<div class="prompt input_prompt">In&nbsp;[50]:</div>
<div class="inner_cell">
    <div class="input_area">
<div class=" highlight hl-ipython3"><pre><span></span><span class="n">a</span> <span class="o">=</span> <span class="n">np</span><span class="o">.</span><span class="n">arange</span><span class="p">(</span><span class="mi">0</span><span class="p">,</span><span class="mi">10</span><span class="p">,</span><span class="mi">3</span><span class="p">)</span> <span class="c1"># go from 0 to 10 in steps of 3</span>
<span class="nb">print</span><span class="p">(</span><span class="n">a</span><span class="p">)</span>
</pre></div>

    </div>
</div>
</div>

<div class="output_wrapper">
<div class="output">


<div class="output_area">

    <div class="prompt"></div>


<div class="output_subarea output_stream output_stdout output_text">
<pre>[0 3 6 9]
</pre>
</div>
</div>

</div>
</div>

</div></div><div class="fragment">
<div class="cell border-box-sizing code_cell rendered">
<div class="input">
<div class="prompt input_prompt">In&nbsp;[51]:</div>
<div class="inner_cell">
    <div class="input_area">
<div class=" highlight hl-ipython3"><pre><span></span><span class="k">for</span> <span class="n">i</span> <span class="ow">in</span> <span class="n">np</span><span class="o">.</span><span class="n">arange</span><span class="p">(</span><span class="o">-</span><span class="mi">2</span><span class="p">,</span><span class="mi">3</span><span class="p">,</span><span class="mi">2</span><span class="p">):</span> <span class="c1"># use arange to loop</span>
    <span class="nb">print</span><span class="p">(</span><span class="n">i</span><span class="p">)</span>
</pre></div>

    </div>
</div>
</div>

<div class="output_wrapper">
<div class="output">


<div class="output_area">

    <div class="prompt"></div>


<div class="output_subarea output_stream output_stdout output_text">
<pre>-2
0
2
</pre>
</div>
</div>

</div>
</div>

</div></div></section></section><section><section>
<div class="cell border-box-sizing text_cell rendered"><div class="prompt input_prompt">
</div><div class="inner_cell">
<div class="text_cell_render border-box-sizing rendered_html">
<p>Another useful numpy functionality is <code>linspace</code>. With <code>linspace</code>, you can create an array of equally spaced real numbers. This is particularly useful if you're defining a grid. Here's an example</p>

</div>
</div>
</div><div class="fragment">
<div class="cell border-box-sizing code_cell rendered">
<div class="input">
<div class="prompt input_prompt">In&nbsp;[52]:</div>
<div class="inner_cell">
    <div class="input_area">
<div class=" highlight hl-ipython3"><pre><span></span><span class="n">x</span> <span class="o">=</span> <span class="n">np</span><span class="o">.</span><span class="n">linspace</span><span class="p">(</span><span class="o">-</span><span class="mi">1</span><span class="p">,</span><span class="mi">1</span><span class="p">,</span><span class="mi">10</span><span class="p">)</span>
<span class="nb">print</span><span class="p">(</span><span class="n">x</span><span class="p">)</span>
</pre></div>

    </div>
</div>
</div>

<div class="output_wrapper">
<div class="output">


<div class="output_area">

    <div class="prompt"></div>


<div class="output_subarea output_stream output_stdout output_text">
<pre>[-1.         -0.77777778 -0.55555556 -0.33333333 -0.11111111  0.11111111
  0.33333333  0.55555556  0.77777778  1.        ]
</pre>
</div>
</div>

</div>
</div>

</div></div></section></section><section><section>
<div class="cell border-box-sizing text_cell rendered"><div class="prompt input_prompt">
</div><div class="inner_cell">
<div class="text_cell_render border-box-sizing rendered_html">
<p>you can use linspace to compute (and plot) a function</p>

</div>
</div>
</div><div class="fragment">
<div class="cell border-box-sizing code_cell rendered">
<div class="input">
<div class="prompt input_prompt">In&nbsp;[53]:</div>
<div class="inner_cell">
    <div class="input_area">
<div class=" highlight hl-ipython3"><pre><span></span><span class="o">%</span><span class="k">matplotlib</span> inline 
<span class="kn">import</span> <span class="nn">matplotlib.pyplot</span> <span class="k">as</span> <span class="nn">plt</span> <span class="c1"># you will learn this later</span>
<span class="kn">import</span> <span class="nn">numpy</span> <span class="k">as</span> <span class="nn">np</span>
<span class="n">x</span> <span class="o">=</span> <span class="n">np</span><span class="o">.</span><span class="n">linspace</span><span class="p">(</span><span class="o">-</span><span class="mi">1</span><span class="p">,</span><span class="mi">1</span><span class="p">,</span><span class="mi">100</span><span class="p">)</span>
<span class="n">y</span> <span class="o">=</span> <span class="n">np</span><span class="o">.</span><span class="n">exp</span><span class="p">(</span><span class="o">-</span><span class="n">x</span><span class="o">**</span><span class="mi">2</span><span class="o">/</span><span class="mf">0.1</span><span class="p">)</span>
<span class="n">plt</span><span class="o">.</span><span class="n">plot</span><span class="p">(</span><span class="n">x</span><span class="p">,</span><span class="n">y</span><span class="p">)</span>
</pre></div>

    </div>
</div>
</div>

<div class="output_wrapper">
<div class="output">


<div class="output_area">

    <div class="prompt output_prompt">Out[53]:</div>




<div class="output_text output_subarea output_execute_result">
<pre>[&lt;matplotlib.lines.Line2D at 0x111b64208&gt;]</pre>
</div>

</div>

<div class="output_area">

    <div class="prompt"></div>




<div class="output_png output_subarea ">
<img src="data:image/png;base64,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
"
>
</div>

</div>

</div>
</div>

</div></div></section></section><section><section>
<div class="cell border-box-sizing text_cell rendered"><div class="prompt input_prompt">
</div><div class="inner_cell">
<div class="text_cell_render border-box-sizing rendered_html">
<h3 id="Accessing-Numpy-Arrays">Accessing Numpy Arrays<a class="anchor-link" href="#Accessing-Numpy-Arrays">&#182;</a></h3>
</div>
</div>
</div><div class="fragment">
<div class="cell border-box-sizing text_cell rendered"><div class="prompt input_prompt">
</div><div class="inner_cell">
<div class="text_cell_render border-box-sizing rendered_html">
<p>Numpy arrays can be accessed using the bracket operator and are indexed by row and column (by default). If a is an <code>nxn</code> array, then <code>a[i,j]</code> refers to row <code>i</code> and column <code>j</code>.</p>

</div>
</div>
</div></div><div class="fragment">
<div class="cell border-box-sizing code_cell rendered">
<div class="input">
<div class="prompt input_prompt">In&nbsp;[54]:</div>
<div class="inner_cell">
    <div class="input_area">
<div class=" highlight hl-ipython3"><pre><span></span><span class="n">a</span> <span class="o">=</span> <span class="n">np</span><span class="o">.</span><span class="n">zeros</span><span class="p">((</span><span class="mi">2</span><span class="p">,</span><span class="mi">2</span><span class="p">))</span> <span class="c1"># create a 2x2 array of zeros</span>
<span class="nb">print</span><span class="p">(</span><span class="n">a</span><span class="p">)</span>
<span class="n">a</span><span class="p">[</span><span class="mi">0</span><span class="p">,</span><span class="mi">1</span><span class="p">]</span> <span class="o">=</span> <span class="mi">33</span> <span class="c1"># change element a[0,1]</span>
<span class="nb">print</span><span class="p">(</span><span class="n">a</span><span class="p">)</span>
</pre></div>

    </div>
</div>
</div>

<div class="output_wrapper">
<div class="output">


<div class="output_area">

    <div class="prompt"></div>


<div class="output_subarea output_stream output_stdout output_text">
<pre>[[0. 0.]
 [0. 0.]]
[[ 0. 33.]
 [ 0.  0.]]
</pre>
</div>
</div>

</div>
</div>

</div></div></section></section><section><section>
<div class="cell border-box-sizing text_cell rendered"><div class="prompt input_prompt">
</div><div class="inner_cell">
<div class="text_cell_render border-box-sizing rendered_html">
<p>On the other hand, <code>a[i]</code> refers to the <em>entire</em> ith row</p>

</div>
</div>
</div><div class="fragment">
<div class="cell border-box-sizing code_cell rendered">
<div class="input">
<div class="prompt input_prompt">In&nbsp;[55]:</div>
<div class="inner_cell">
    <div class="input_area">
<div class=" highlight hl-ipython3"><pre><span></span><span class="n">a</span> <span class="o">=</span> <span class="n">np</span><span class="o">.</span><span class="n">zeros</span><span class="p">((</span><span class="mi">2</span><span class="p">,</span><span class="mi">2</span><span class="p">))</span> <span class="c1"># create a 2x2 array of zeros</span>
<span class="n">a</span><span class="p">[</span><span class="mi">0</span><span class="p">]</span> <span class="o">=</span> <span class="p">[</span><span class="mi">1</span><span class="p">,</span><span class="mi">2</span><span class="p">]</span>
<span class="n">a</span><span class="p">[</span><span class="mi">1</span><span class="p">]</span> <span class="o">=</span> <span class="p">[</span><span class="mi">3</span><span class="p">,</span><span class="mi">4</span><span class="p">]</span>
<span class="nb">print</span><span class="p">(</span><span class="n">a</span><span class="p">)</span>
</pre></div>

    </div>
</div>
</div>

<div class="output_wrapper">
<div class="output">


<div class="output_area">

    <div class="prompt"></div>


<div class="output_subarea output_stream output_stdout output_text">
<pre>[[1. 2.]
 [3. 4.]]
</pre>
</div>
</div>

</div>
</div>

</div></div><div class="fragment">
<div class="cell border-box-sizing text_cell rendered"><div class="prompt input_prompt">
</div><div class="inner_cell">
<div class="text_cell_render border-box-sizing rendered_html">
<p>and <code>a[:,j]</code> refers to the <em>entire</em> jth column.</p>

</div>
</div>
</div></div><div class="fragment">
<div class="cell border-box-sizing code_cell rendered">
<div class="input">
<div class="prompt input_prompt">In&nbsp;[56]:</div>
<div class="inner_cell">
    <div class="input_area">
<div class=" highlight hl-ipython3"><pre><span></span><span class="n">a</span> <span class="o">=</span> <span class="n">np</span><span class="o">.</span><span class="n">zeros</span><span class="p">((</span><span class="mi">2</span><span class="p">,</span><span class="mi">2</span><span class="p">))</span> <span class="c1"># create a 2x2 array of zeros</span>
<span class="n">a</span><span class="p">[:,</span><span class="mi">0</span><span class="p">]</span> <span class="o">=</span> <span class="p">[</span><span class="mi">1</span><span class="p">,</span><span class="mi">3</span><span class="p">]</span>
<span class="n">a</span><span class="p">[:,</span><span class="mi">1</span><span class="p">]</span> <span class="o">=</span> <span class="p">[</span><span class="mi">2</span><span class="p">,</span><span class="mi">4</span><span class="p">]</span>
<span class="nb">print</span><span class="p">(</span><span class="n">a</span><span class="p">)</span>
</pre></div>

    </div>
</div>
</div>

<div class="output_wrapper">
<div class="output">


<div class="output_area">

    <div class="prompt"></div>


<div class="output_subarea output_stream output_stdout output_text">
<pre>[[1. 2.]
 [3. 4.]]
</pre>
</div>
</div>

</div>
</div>

</div></div></section></section><section><section>
<div class="cell border-box-sizing text_cell rendered"><div class="prompt input_prompt">
</div><div class="inner_cell">
<div class="text_cell_render border-box-sizing rendered_html">
<p>The colon in <code>a[:,0]</code> allows you to select a subset of an array. In general is works as: <code>i:j</code> will return the subset array consisting of the elements <code>a[i]</code> to <code>a[j-1]</code></p>

</div>
</div>
</div><div class="fragment">
<div class="cell border-box-sizing code_cell rendered">
<div class="input">
<div class="prompt input_prompt">In&nbsp;[57]:</div>
<div class="inner_cell">
    <div class="input_area">
<div class=" highlight hl-ipython3"><pre><span></span><span class="n">a</span> <span class="o">=</span> <span class="n">np</span><span class="o">.</span><span class="n">arange</span><span class="p">(</span><span class="mi">1</span><span class="p">,</span><span class="mi">10</span><span class="p">)</span>
<span class="nb">print</span><span class="p">(</span><span class="n">a</span><span class="p">)</span>
<span class="nb">print</span><span class="p">(</span><span class="n">a</span><span class="p">[</span><span class="mi">1</span><span class="p">:</span><span class="mi">4</span><span class="p">])</span> <span class="c1"># return the subset array a[1] to a[3]</span>
</pre></div>

    </div>
</div>
</div>

<div class="output_wrapper">
<div class="output">


<div class="output_area">

    <div class="prompt"></div>


<div class="output_subarea output_stream output_stdout output_text">
<pre>[1 2 3 4 5 6 7 8 9]
[2 3 4]
</pre>
</div>
</div>

</div>
</div>

</div></div><div class="fragment">
<div class="cell border-box-sizing text_cell rendered"><div class="prompt input_prompt">
</div><div class="inner_cell">
<div class="text_cell_render border-box-sizing rendered_html">
<p>If no numbers are provided around the colon (i.e. <code>a[:]</code>), then the entire range is returned</p>

</div>
</div>
</div></div><div class="fragment">
<div class="cell border-box-sizing code_cell rendered">
<div class="input">
<div class="prompt input_prompt">In&nbsp;[58]:</div>
<div class="inner_cell">
    <div class="input_area">
<div class=" highlight hl-ipython3"><pre><span></span><span class="n">a</span> <span class="o">=</span> <span class="n">np</span><span class="o">.</span><span class="n">arange</span><span class="p">(</span><span class="mi">1</span><span class="p">,</span><span class="mi">10</span><span class="p">)</span>
<span class="nb">print</span><span class="p">(</span><span class="n">a</span><span class="p">[:])</span>
</pre></div>

    </div>
</div>
</div>

<div class="output_wrapper">
<div class="output">


<div class="output_area">

    <div class="prompt"></div>


<div class="output_subarea output_stream output_stdout output_text">
<pre>[1 2 3 4 5 6 7 8 9]
</pre>
</div>
</div>

</div>
</div>

</div></div></section></section><section><section>
<div class="cell border-box-sizing text_cell rendered"><div class="prompt input_prompt">
</div><div class="inner_cell">
<div class="text_cell_render border-box-sizing rendered_html">
<p>Here's a more complex example of how you can slice through a 4x4 matrix</p>

</div>
</div>
</div><div class="fragment">
<div class="cell border-box-sizing code_cell rendered">
<div class="input">
<div class="prompt input_prompt">In&nbsp;[59]:</div>
<div class="inner_cell">
    <div class="input_area">
<div class=" highlight hl-ipython3"><pre><span></span><span class="n">a</span> <span class="o">=</span> <span class="n">np</span><span class="o">.</span><span class="n">zeros</span><span class="p">((</span><span class="mi">4</span><span class="p">,</span><span class="mi">4</span><span class="p">))</span> <span class="c1"># create an array of zeros</span>
<span class="nb">print</span><span class="p">(</span><span class="n">a</span><span class="p">)</span>
</pre></div>

    </div>
</div>
</div>

<div class="output_wrapper">
<div class="output">


<div class="output_area">

    <div class="prompt"></div>


<div class="output_subarea output_stream output_stdout output_text">
<pre>[[0. 0. 0. 0.]
 [0. 0. 0. 0.]
 [0. 0. 0. 0.]
 [0. 0. 0. 0.]]
</pre>
</div>
</div>

</div>
</div>

</div></div><div class="fragment">
<div class="cell border-box-sizing code_cell rendered">
<div class="input">
<div class="prompt input_prompt">In&nbsp;[60]:</div>
<div class="inner_cell">
    <div class="input_area">
<div class=" highlight hl-ipython3"><pre><span></span><span class="c1"># now change row 1, columns 1,2</span>
<span class="n">a</span><span class="p">[</span><span class="mi">1</span><span class="p">,</span><span class="mi">1</span><span class="p">:</span><span class="mi">3</span><span class="p">]</span> <span class="o">=</span> <span class="p">[</span><span class="mf">1.11</span><span class="p">,</span><span class="mf">2.22</span><span class="p">]</span>
<span class="nb">print</span><span class="p">(</span><span class="n">a</span><span class="p">)</span>
</pre></div>

    </div>
</div>
</div>

<div class="output_wrapper">
<div class="output">


<div class="output_area">

    <div class="prompt"></div>


<div class="output_subarea output_stream output_stdout output_text">
<pre>[[0.   0.   0.   0.  ]
 [0.   1.11 2.22 0.  ]
 [0.   0.   0.   0.  ]
 [0.   0.   0.   0.  ]]
</pre>
</div>
</div>

</div>
</div>

</div></div><div class="fragment">
<div class="cell border-box-sizing code_cell rendered">
<div class="input">
<div class="prompt input_prompt">In&nbsp;[61]:</div>
<div class="inner_cell">
    <div class="input_area">
<div class=" highlight hl-ipython3"><pre><span></span><span class="c1">#now change column 3, rows 2,3</span>
<span class="n">a</span><span class="p">[</span><span class="mi">2</span><span class="p">:</span><span class="mi">4</span><span class="p">,</span><span class="mi">3</span><span class="p">]</span><span class="o">=</span><span class="p">[</span><span class="mf">3.33</span><span class="p">,</span><span class="mf">4.44</span><span class="p">]</span>
<span class="nb">print</span><span class="p">(</span><span class="n">a</span><span class="p">)</span>
</pre></div>

    </div>
</div>
</div>

<div class="output_wrapper">
<div class="output">


<div class="output_area">

    <div class="prompt"></div>


<div class="output_subarea output_stream output_stdout output_text">
<pre>[[0.   0.   0.   0.  ]
 [0.   1.11 2.22 0.  ]
 [0.   0.   0.   3.33]
 [0.   0.   0.   4.44]]
</pre>
</div>
</div>

</div>
</div>

</div></div></section></section><section><section>
<div class="cell border-box-sizing text_cell rendered"><div class="prompt input_prompt">
</div><div class="inner_cell">
<div class="text_cell_render border-box-sizing rendered_html">
<h3 id="Operations-on-Numpy-Arrays">Operations on Numpy Arrays<a class="anchor-link" href="#Operations-on-Numpy-Arrays">&#182;</a></h3>
</div>
</div>
</div><div class="fragment">
<div class="cell border-box-sizing text_cell rendered"><div class="prompt input_prompt">
</div><div class="inner_cell">
<div class="text_cell_render border-box-sizing rendered_html">
<p>You can operate on arrays using standard mathematical operators as long as the array sizes are consistent with the operation being carried out. All operations are carried out element-wise - that is, applied to each element one at a time.</p>

</div>
</div>
</div></div><div class="fragment">
<div class="cell border-box-sizing code_cell rendered">
<div class="input">
<div class="prompt input_prompt">In&nbsp;[62]:</div>
<div class="inner_cell">
    <div class="input_area">
<div class=" highlight hl-ipython3"><pre><span></span><span class="n">a</span> <span class="o">=</span> <span class="n">np</span><span class="o">.</span><span class="n">arange</span><span class="p">(</span><span class="mi">0</span><span class="p">,</span><span class="mi">10</span><span class="p">)</span> <span class="c1">#[0,1,2,...,9]</span>
<span class="n">b</span> <span class="o">=</span> <span class="n">np</span><span class="o">.</span><span class="n">arange</span><span class="p">(</span><span class="mi">10</span><span class="p">,</span><span class="mi">20</span><span class="p">)</span> <span class="c1">#[10,11,...,19]</span>
<span class="n">a</span><span class="o">*</span><span class="n">b</span>
</pre></div>

    </div>
</div>
</div>

<div class="output_wrapper">
<div class="output">


<div class="output_area">

    <div class="prompt output_prompt">Out[62]:</div>




<div class="output_text output_subarea output_execute_result">
<pre>array([  0,  11,  24,  39,  56,  75,  96, 119, 144, 171])</pre>
</div>

</div>

</div>
</div>

</div></div></section></section><section><section>
<div class="cell border-box-sizing text_cell rendered"><div class="prompt input_prompt">
</div><div class="inner_cell">
<div class="text_cell_render border-box-sizing rendered_html">
<p>Mathematical functions provided by numpy will operate on numpy arrays element-wise</p>

</div>
</div>
</div><div class="fragment">
<div class="cell border-box-sizing code_cell rendered">
<div class="input">
<div class="prompt input_prompt">In&nbsp;[63]:</div>
<div class="inner_cell">
    <div class="input_area">
<div class=" highlight hl-ipython3"><pre><span></span><span class="n">a</span> <span class="o">=</span> <span class="n">np</span><span class="o">.</span><span class="n">arange</span><span class="p">(</span><span class="mi">0</span><span class="p">,</span><span class="mi">10</span><span class="p">)</span> <span class="c1">#[0,1,2,...,9]</span>
<span class="n">np</span><span class="o">.</span><span class="n">sqrt</span><span class="p">(</span><span class="n">a</span><span class="p">)</span> <span class="c1"># use sqrt provided by numpy</span>
</pre></div>

    </div>
</div>
</div>

<div class="output_wrapper">
<div class="output">


<div class="output_area">

    <div class="prompt output_prompt">Out[63]:</div>




<div class="output_text output_subarea output_execute_result">
<pre>array([0.        , 1.        , 1.41421356, 1.73205081, 2.        ,
       2.23606798, 2.44948974, 2.64575131, 2.82842712, 3.        ])</pre>
</div>

</div>

</div>
</div>

</div></div><div class="fragment">
<div class="cell border-box-sizing text_cell rendered"><div class="prompt input_prompt">
</div><div class="inner_cell">
<div class="text_cell_render border-box-sizing rendered_html">
<p>However, functions provided by other modules, such as the math module, are not guaranteed to work with numpy arrays</p>

</div>
</div>
</div></div><div class="fragment">
<div class="cell border-box-sizing code_cell rendered">
<div class="input">
<div class="prompt input_prompt">In&nbsp;[64]:</div>
<div class="inner_cell">
    <div class="input_area">
<div class=" highlight hl-ipython3"><pre><span></span><span class="kn">import</span> <span class="nn">math</span>
<span class="n">a</span> <span class="o">=</span> <span class="n">np</span><span class="o">.</span><span class="n">arange</span><span class="p">(</span><span class="mi">0</span><span class="p">,</span><span class="mi">10</span><span class="p">)</span> <span class="c1">#[0,1,2,...,9]</span>
<span class="n">math</span><span class="o">.</span><span class="n">sqrt</span><span class="p">(</span><span class="n">a</span><span class="p">)</span>
</pre></div>

    </div>
</div>
</div>

<div class="output_wrapper">
<div class="output">


<div class="output_area">

    <div class="prompt"></div>


<div class="output_subarea output_text output_error">
<pre><span class="ansi-red-fg">---------------------------------------------------------------------------</span>
<span class="ansi-red-fg">TypeError</span>                                 Traceback (most recent call last)
<span class="ansi-green-fg">&lt;ipython-input-64-30c328a8cb8e&gt;</span> in <span class="ansi-cyan-fg">&lt;module&gt;</span><span class="ansi-blue-fg">()</span>
<span class="ansi-green-intense-fg ansi-bold">      1</span> <span class="ansi-green-fg">import</span> math
<span class="ansi-green-intense-fg ansi-bold">      2</span> a <span class="ansi-blue-fg">=</span> np<span class="ansi-blue-fg">.</span>arange<span class="ansi-blue-fg">(</span><span class="ansi-cyan-fg">0</span><span class="ansi-blue-fg">,</span><span class="ansi-cyan-fg">10</span><span class="ansi-blue-fg">)</span> <span class="ansi-red-fg">#[0,1,2,...,9]</span>
<span class="ansi-green-fg">----&gt; 3</span><span class="ansi-red-fg"> </span>math<span class="ansi-blue-fg">.</span>sqrt<span class="ansi-blue-fg">(</span>a<span class="ansi-blue-fg">)</span>

<span class="ansi-red-fg">TypeError</span>: only size-1 arrays can be converted to Python scalars</pre>
</div>
</div>

</div>
</div>

</div></div><div class="fragment">
<div class="cell border-box-sizing text_cell rendered"><div class="prompt input_prompt">
</div><div class="inner_cell">
<div class="text_cell_render border-box-sizing rendered_html">
<p>In this case, the functions provided by the math module will work on one element at a time, not an entire list, e.g.</p>
<div class="highlight"><pre><span></span><span class="n">math</span><span class="o">.</span><span class="n">sqrt</span><span class="p">(</span><span class="n">a</span><span class="p">[</span><span class="mi">3</span><span class="p">])</span>
</pre></div>

</div>
</div>
</div></div></section></section><section><section>
<div class="cell border-box-sizing text_cell rendered"><div class="prompt input_prompt">
</div><div class="inner_cell">
<div class="text_cell_render border-box-sizing rendered_html">
<h4 id="Diagonal">Diagonal<a class="anchor-link" href="#Diagonal">&#182;</a></h4>
</div>
</div>
</div><div class="fragment">
<div class="cell border-box-sizing code_cell rendered">
<div class="input">
<div class="prompt input_prompt">In&nbsp;[66]:</div>
<div class="inner_cell">
    <div class="input_area">
<div class=" highlight hl-ipython3"><pre><span></span><span class="kn">import</span> <span class="nn">numpy</span> <span class="k">as</span> <span class="nn">np</span>
<span class="n">A</span> <span class="o">=</span> <span class="n">np</span><span class="o">.</span><span class="n">array</span><span class="p">([[</span><span class="mi">4</span><span class="p">,</span><span class="o">-</span><span class="mi">2</span><span class="p">,</span><span class="mi">1</span><span class="p">],</span>
              <span class="p">[</span><span class="o">-</span><span class="mi">2</span><span class="p">,</span><span class="mi">4</span><span class="p">,</span><span class="o">-</span><span class="mi">2</span><span class="p">],</span>
              <span class="p">[</span><span class="mi">1</span><span class="p">,</span><span class="o">-</span><span class="mi">2</span><span class="p">,</span><span class="mi">3</span><span class="p">]])</span>
<span class="n">d</span> <span class="o">=</span> <span class="n">np</span><span class="o">.</span><span class="n">diagonal</span><span class="p">(</span><span class="n">A</span><span class="p">)</span> <span class="c1"># main diagonal</span>
<span class="n">ud</span> <span class="o">=</span> <span class="n">np</span><span class="o">.</span><span class="n">diagonal</span><span class="p">(</span><span class="n">A</span><span class="p">,</span><span class="mi">1</span><span class="p">)</span> <span class="c1"># first upper diagonal</span>
<span class="n">ld</span> <span class="o">=</span> <span class="n">np</span><span class="o">.</span><span class="n">diagonal</span><span class="p">(</span><span class="n">A</span><span class="p">,</span><span class="o">-</span><span class="mi">1</span><span class="p">)</span> <span class="c1"># first lower diagonal</span>
<span class="nb">print</span><span class="p">(</span><span class="s1">&#39;main diagonal = &#39;</span><span class="p">,</span> <span class="n">d</span><span class="p">)</span>
<span class="nb">print</span><span class="p">(</span><span class="s1">&#39;lower diagonal = &#39;</span><span class="p">,</span> <span class="n">ld</span><span class="p">)</span>
<span class="nb">print</span><span class="p">(</span><span class="s1">&#39;upper diagonal = &#39;</span><span class="p">,</span> <span class="n">ud</span><span class="p">)</span>
</pre></div>

    </div>
</div>
</div>

<div class="output_wrapper">
<div class="output">


<div class="output_area">

    <div class="prompt"></div>


<div class="output_subarea output_stream output_stdout output_text">
<pre>main diagonal =  [4 4 3]
lower diagonal =  [-2 -2]
upper diagonal =  [-2 -2]
</pre>
</div>
</div>

</div>
</div>

</div></div></section></section><section><section>
<div class="cell border-box-sizing text_cell rendered"><div class="prompt input_prompt">
</div><div class="inner_cell">
<div class="text_cell_render border-box-sizing rendered_html">
<p>you can also take the trace</p>

</div>
</div>
</div><div class="fragment">
<div class="cell border-box-sizing code_cell rendered">
<div class="input">
<div class="prompt input_prompt">In&nbsp;[67]:</div>
<div class="inner_cell">
    <div class="input_area">
<div class=" highlight hl-ipython3"><pre><span></span><span class="n">tr</span> <span class="o">=</span> <span class="n">np</span><span class="o">.</span><span class="n">trace</span><span class="p">(</span><span class="n">A</span><span class="p">)</span>
<span class="nb">print</span><span class="p">(</span><span class="n">tr</span><span class="p">)</span>
</pre></div>

    </div>
</div>
</div>

<div class="output_wrapper">
<div class="output">


<div class="output_area">

    <div class="prompt"></div>


<div class="output_subarea output_stream output_stdout output_text">
<pre>11
</pre>
</div>
</div>

</div>
</div>

</div></div><div class="fragment">
<div class="cell border-box-sizing text_cell rendered"><div class="prompt input_prompt">
</div><div class="inner_cell">
<div class="text_cell_render border-box-sizing rendered_html">
<p>you can create an identity matrix</p>

</div>
</div>
</div></div><div class="fragment">
<div class="cell border-box-sizing code_cell rendered">
<div class="input">
<div class="prompt input_prompt">In&nbsp;[68]:</div>
<div class="inner_cell">
    <div class="input_area">
<div class=" highlight hl-ipython3"><pre><span></span><span class="n">idm</span> <span class="o">=</span> <span class="n">np</span><span class="o">.</span><span class="n">identity</span><span class="p">(</span><span class="mi">3</span><span class="p">)</span>
<span class="nb">print</span><span class="p">(</span><span class="n">idm</span><span class="p">)</span>
</pre></div>

    </div>
</div>
</div>

<div class="output_wrapper">
<div class="output">


<div class="output_area">

    <div class="prompt"></div>


<div class="output_subarea output_stream output_stdout output_text">
<pre>[[1. 0. 0.]
 [0. 1. 0.]
 [0. 0. 1.]]
</pre>
</div>
</div>

</div>
</div>

</div></div></section></section><section><section>
<div class="cell border-box-sizing text_cell rendered"><div class="prompt input_prompt">
</div><div class="inner_cell">
<div class="text_cell_render border-box-sizing rendered_html">
<h4 id="Dot-Product">Dot Product<a class="anchor-link" href="#Dot-Product">&#182;</a></h4>
</div>
</div>
</div><div class="fragment">
<div class="cell border-box-sizing code_cell rendered">
<div class="input">
<div class="prompt input_prompt">In&nbsp;[69]:</div>
<div class="inner_cell">
    <div class="input_area">
<div class=" highlight hl-ipython3"><pre><span></span><span class="kn">from</span> <span class="nn">numpy</span> <span class="k">import</span> <span class="o">*</span>
<span class="n">x</span> <span class="o">=</span> <span class="n">array</span><span class="p">([</span><span class="mi">7</span><span class="p">,</span><span class="mi">3</span><span class="p">])</span>
<span class="n">y</span> <span class="o">=</span> <span class="n">array</span><span class="p">([</span><span class="mi">2</span><span class="p">,</span><span class="mi">1</span><span class="p">])</span>
<span class="n">A</span> <span class="o">=</span> <span class="n">array</span><span class="p">([[</span><span class="mi">1</span><span class="p">,</span><span class="mi">2</span><span class="p">],[</span><span class="mi">3</span><span class="p">,</span><span class="mi">2</span><span class="p">]])</span>
<span class="n">B</span> <span class="o">=</span> <span class="n">array</span><span class="p">([[</span><span class="mi">1</span><span class="p">,</span><span class="mi">1</span><span class="p">],[</span><span class="mi">2</span><span class="p">,</span><span class="mi">2</span><span class="p">]])</span>

<span class="c1"># Dot product</span>
<span class="nb">print</span><span class="p">(</span><span class="s2">&quot;dot(x,y) =</span><span class="se">\n</span><span class="s2">&quot;</span><span class="p">,</span><span class="n">dot</span><span class="p">(</span><span class="n">x</span><span class="p">,</span><span class="n">y</span><span class="p">))</span> <span class="c1"># {x}.{y}</span>
<span class="nb">print</span><span class="p">(</span><span class="s2">&quot;dot(A,x) =</span><span class="se">\n</span><span class="s2">&quot;</span><span class="p">,</span><span class="n">dot</span><span class="p">(</span><span class="n">A</span><span class="p">,</span><span class="n">x</span><span class="p">))</span> <span class="c1"># [A]{x}</span>
<span class="nb">print</span><span class="p">(</span><span class="s2">&quot;dot(A,B) =</span><span class="se">\n</span><span class="s2">&quot;</span><span class="p">,</span><span class="n">dot</span><span class="p">(</span><span class="n">A</span><span class="p">,</span><span class="n">B</span><span class="p">))</span> <span class="c1"># [A][B]</span>
</pre></div>

    </div>
</div>
</div>

<div class="output_wrapper">
<div class="output">


<div class="output_area">

    <div class="prompt"></div>


<div class="output_subarea output_stream output_stdout output_text">
<pre>dot(x,y) =
 17
dot(A,x) =
 [13 27]
dot(A,B) =
 [[5 5]
 [7 7]]
</pre>
</div>
</div>

</div>
</div>

</div></div></section></section><section><section>
<div class="cell border-box-sizing text_cell rendered"><div class="prompt input_prompt">
</div><div class="inner_cell">
<div class="text_cell_render border-box-sizing rendered_html">
<p>There's a shorter way of computing dot products. Instead of using <code>dot(x,y)</code>, you can use <code><a href="/cdn-cgi/l/email-protection" class="__cf_email__" data-cfemail="29516950">[email&#160;protected]</a></code></p>

</div>
</div>
</div><div class="fragment">
<div class="cell border-box-sizing code_cell rendered">
<div class="input">
<div class="prompt input_prompt">In&nbsp;[70]:</div>
<div class="inner_cell">
    <div class="input_area">
<div class=" highlight hl-ipython3"><pre><span></span><span class="kn">from</span> <span class="nn">numpy</span> <span class="k">import</span> <span class="o">*</span>
<span class="n">x</span> <span class="o">=</span> <span class="n">array</span><span class="p">([</span><span class="mi">7</span><span class="p">,</span><span class="mi">3</span><span class="p">])</span>
<span class="n">y</span> <span class="o">=</span> <span class="n">array</span><span class="p">([</span><span class="mi">2</span><span class="p">,</span><span class="mi">1</span><span class="p">])</span>
<span class="n">A</span> <span class="o">=</span> <span class="n">array</span><span class="p">([[</span><span class="mi">1</span><span class="p">,</span><span class="mi">2</span><span class="p">],[</span><span class="mi">3</span><span class="p">,</span><span class="mi">2</span><span class="p">]])</span>
<span class="n">B</span> <span class="o">=</span> <span class="n">array</span><span class="p">([[</span><span class="mi">1</span><span class="p">,</span><span class="mi">1</span><span class="p">],[</span><span class="mi">2</span><span class="p">,</span><span class="mi">2</span><span class="p">]])</span>

<span class="c1"># Dot product</span>
<span class="nb">print</span><span class="p">(</span><span class="s2">&quot;<a href="/cdn-cgi/l/email-protection" class="__cf_email__" data-cfemail="166e566f">[email&#160;protected]</a> =</span><span class="se">\n</span><span class="s2">&quot;</span><span class="p">,</span><span class="n">x</span><span class="nd">@y</span><span class="p">)</span> <span class="c1"># {x}.{y}</span>
<span class="nb">print</span><span class="p">(</span><span class="s2">&quot;<a href="/cdn-cgi/l/email-protection" class="__cf_email__" data-cfemail="dd9c9da5">[email&#160;protected]</a> =</span><span class="se">\n</span><span class="s2">&quot;</span><span class="p">,</span><span class="n">A</span><span class="nd">@x</span><span class="p">)</span> <span class="c1"># [A]{x}</span>
<span class="nb">print</span><span class="p">(</span><span class="s2">&quot;<a href="/cdn-cgi/l/email-protection" class="__cf_email__" data-cfemail="a6e7e6e4">[email&#160;protected]</a> =</span><span class="se">\n</span><span class="s2">&quot;</span><span class="p">,</span><span class="n">A</span><span class="nd">@B</span><span class="p">)</span> <span class="c1"># [A][B]</span>
</pre></div>

    </div>
</div>
</div>

<div class="output_wrapper">
<div class="output">


<div class="output_area">

    <div class="prompt"></div>


<div class="output_subarea output_stream output_stdout output_text">
<pre><a href="/cdn-cgi/l/email-protection" class="__cf_email__" data-cfemail="5d251d24">[email&#160;protected]</a> =
 17
<a href="/cdn-cgi/l/email-protection" class="__cf_email__" data-cfemail="87c6c7ff">[email&#160;protected]</a> =
 [13 27]
<a href="/cdn-cgi/l/email-protection" class="__cf_email__" data-cfemail="21606163">[email&#160;protected]</a> =
 [[5 5]
 [7 7]]
</pre>
</div>
</div>

</div>
</div>

</div></div><div class="fragment">
<div class="cell border-box-sizing text_cell rendered"><div class="prompt input_prompt">
</div><div class="inner_cell">
<div class="text_cell_render border-box-sizing rendered_html">
<p>This depends on your having Python3 installed. Try it, and if it works, then you're likely using python3.</p>

</div>
</div>
</div></div></section></section><section><section>
<div class="cell border-box-sizing text_cell rendered"><div class="prompt input_prompt">
</div><div class="inner_cell">
<div class="text_cell_render border-box-sizing rendered_html">
<h3 id="Linear-Algebra">Linear Algebra<a class="anchor-link" href="#Linear-Algebra">&#182;</a></h3>
</div>
</div>
</div><div class="fragment">
<div class="cell border-box-sizing text_cell rendered"><div class="prompt input_prompt">
</div><div class="inner_cell">
<div class="text_cell_render border-box-sizing rendered_html">
<p>Numpy ships with a linear algebra module named <strong><code>linalg</code></strong> that contains a collection of routines to aid in the solution and manipulation of systems of linear equations.</p>

</div>
</div>
</div></div><div class="fragment">
<div class="cell border-box-sizing code_cell rendered">
<div class="input">
<div class="prompt input_prompt">In&nbsp;[73]:</div>
<div class="inner_cell">
    <div class="input_area">
<div class=" highlight hl-ipython3"><pre><span></span><span class="kn">from</span> <span class="nn">numpy</span> <span class="k">import</span> <span class="n">array</span><span class="p">,</span> <span class="n">dot</span>
<span class="kn">from</span> <span class="nn">numpy.linalg</span> <span class="k">import</span> <span class="n">inv</span><span class="p">,</span><span class="n">solve</span> <span class="c1"># import inverse and solve from linalg</span>
<span class="n">A</span> <span class="o">=</span> <span class="n">array</span><span class="p">([[</span> <span class="mf">4.0</span><span class="p">,</span> <span class="o">-</span><span class="mf">2.0</span><span class="p">,</span>  <span class="mf">1.0</span><span class="p">],</span>
           <span class="p">[</span><span class="o">-</span><span class="mf">2.0</span><span class="p">,</span>  <span class="mf">4.0</span><span class="p">,</span> <span class="o">-</span><span class="mf">2.0</span><span class="p">],</span>
           <span class="p">[</span> <span class="mf">1.0</span><span class="p">,</span> <span class="o">-</span><span class="mf">2.0</span><span class="p">,</span>  <span class="mf">3.0</span><span class="p">]])</span>
<span class="n">b</span> <span class="o">=</span> <span class="n">array</span><span class="p">([</span><span class="mf">1.0</span><span class="p">,</span> <span class="mf">4.0</span><span class="p">,</span> <span class="mf">2.0</span><span class="p">])</span>
<span class="n">Ainv</span> <span class="o">=</span> <span class="n">inv</span><span class="p">(</span><span class="n">A</span><span class="p">)</span>

<span class="n">x</span> <span class="o">=</span> <span class="n">solve</span><span class="p">(</span><span class="n">A</span><span class="p">,</span><span class="n">b</span><span class="p">)</span> <span class="c1"># use built in solve</span>
<span class="nb">print</span><span class="p">(</span><span class="n">x</span><span class="p">)</span>

<span class="n">xInv</span> <span class="o">=</span> <span class="n">dot</span><span class="p">(</span><span class="n">Ainv</span><span class="p">,</span><span class="n">b</span><span class="p">)</span> <span class="c1"># use Ainv . b</span>
<span class="nb">print</span><span class="p">(</span><span class="n">xInv</span><span class="p">)</span>
</pre></div>

    </div>
</div>
</div>

<div class="output_wrapper">
<div class="output">


<div class="output_area">

    <div class="prompt"></div>


<div class="output_subarea output_stream output_stdout output_text">
<pre>[1.  2.5 2. ]
[1.  2.5 2. ]
</pre>
</div>
</div>

</div>
</div>

</div></div></section></section><section><section>
<div class="cell border-box-sizing text_cell rendered"><div class="prompt input_prompt">
</div><div class="inner_cell">
<div class="text_cell_render border-box-sizing rendered_html">
<h1 id="Beauty-is-in-the-Eyes-of-MatPlotLib">Beauty is in the Eyes of MatPlotLib<a class="anchor-link" href="#Beauty-is-in-the-Eyes-of-MatPlotLib">&#182;</a></h1>
</div>
</div>
</div>
<div class="cell border-box-sizing text_cell rendered"><div class="prompt input_prompt">
</div><div class="inner_cell">
<div class="text_cell_render border-box-sizing rendered_html">
<p>or how to plot anything in Python!</p>

</div>
</div>
</div><div class="fragment">
<div class="cell border-box-sizing text_cell rendered"><div class="prompt input_prompt">
</div><div class="inner_cell">
<div class="text_cell_render border-box-sizing rendered_html">
<p>Matplotlib is the de-facto standard for plotting in Python. Like numpy, matplotlib is a module and supports plotting all sorts of pythonic things.</p>

</div>
</div>
</div></div></section></section><section><section>
<div class="cell border-box-sizing text_cell rendered"><div class="prompt input_prompt">
</div><div class="inner_cell">
<div class="text_cell_render border-box-sizing rendered_html">
<p>Here's a simple example plot:</p>

</div>
</div>
</div><div class="fragment">
<div class="cell border-box-sizing code_cell rendered">
<div class="input">
<div class="prompt input_prompt">In&nbsp;[74]:</div>
<div class="inner_cell">
    <div class="input_area">
<div class=" highlight hl-ipython3"><pre><span></span><span class="o">%</span><span class="k">matplotlib</span> inline
<span class="kn">import</span> <span class="nn">matplotlib.pyplot</span> <span class="k">as</span> <span class="nn">plt</span> <span class="c1"># pyplot is the standard plotting library in matplotlib</span>
<span class="kn">import</span> <span class="nn">numpy</span> <span class="k">as</span> <span class="nn">np</span>
<span class="n">x</span> <span class="o">=</span> <span class="n">np</span><span class="o">.</span><span class="n">linspace</span><span class="p">(</span><span class="o">-</span><span class="mi">1</span><span class="p">,</span><span class="mi">1</span><span class="p">,</span><span class="mi">200</span><span class="p">)</span> <span class="c1"># create 200 equally spaced points between -1 and 1</span>
<span class="n">y</span> <span class="o">=</span> <span class="n">np</span><span class="o">.</span><span class="n">exp</span><span class="p">(</span><span class="o">-</span><span class="n">x</span><span class="o">**</span><span class="mi">2</span><span class="o">/</span><span class="mf">0.01</span><span class="p">)</span> <span class="c1"># gaussian</span>
<span class="n">plt</span><span class="o">.</span><span class="n">plot</span><span class="p">(</span><span class="n">x</span><span class="p">,</span><span class="n">y</span><span class="p">)</span> <span class="c1"># plot y vs x</span>
</pre></div>

    </div>
</div>
</div>

<div class="output_wrapper">
<div class="output">


<div class="output_area">

    <div class="prompt output_prompt">Out[74]:</div>




<div class="output_text output_subarea output_execute_result">
<pre>[&lt;matplotlib.lines.Line2D at 0x11546ce48&gt;]</pre>
</div>

</div>

<div class="output_area">

    <div class="prompt"></div>




<div class="output_png output_subarea ">
<img src="data:image/png;base64,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
"
>
</div>

</div>

</div>
</div>

</div></div><div class="fragment">
<div class="cell border-box-sizing text_cell rendered"><div class="prompt input_prompt">
</div><div class="inner_cell">
<div class="text_cell_render border-box-sizing rendered_html">
<p>you will notice that we imported <code>pyplot</code> from <code>matplotlib</code>. Also note that the statement <code>%matplotlib inline</code> is necessary <strong>only</strong> when using jupyter notebooks.</p>

</div>
</div>
</div></div></section></section><section><section>
<div class="cell border-box-sizing text_cell rendered"><div class="prompt input_prompt">
</div><div class="inner_cell">
<div class="text_cell_render border-box-sizing rendered_html">
<p>you can label axes and add titles to plots:</p>

</div>
</div>
</div><div class="fragment">
<div class="cell border-box-sizing code_cell rendered">
<div class="input">
<div class="prompt input_prompt">In&nbsp;[75]:</div>
<div class="inner_cell">
    <div class="input_area">
<div class=" highlight hl-ipython3"><pre><span></span><span class="o">%</span><span class="k">matplotlib</span> inline
<span class="kn">import</span> <span class="nn">matplotlib.pyplot</span> <span class="k">as</span> <span class="nn">plt</span> <span class="c1"># pyplot is the standard plotting library in matplotlib</span>
<span class="kn">import</span> <span class="nn">numpy</span> <span class="k">as</span> <span class="nn">np</span>
<span class="n">x</span> <span class="o">=</span> <span class="n">np</span><span class="o">.</span><span class="n">linspace</span><span class="p">(</span><span class="o">-</span><span class="mi">1</span><span class="p">,</span><span class="mi">1</span><span class="p">,</span><span class="mi">200</span><span class="p">)</span> <span class="c1"># create 200 equally spaced points between -1 and 1</span>
<span class="n">y</span> <span class="o">=</span> <span class="n">np</span><span class="o">.</span><span class="n">exp</span><span class="p">(</span><span class="o">-</span><span class="n">x</span><span class="o">**</span><span class="mi">2</span><span class="o">/</span><span class="mf">0.01</span><span class="p">)</span> <span class="c1"># gaussian</span>
<span class="n">plt</span><span class="o">.</span><span class="n">title</span><span class="p">(</span><span class="s1">&#39;Gaussian&#39;</span><span class="p">)</span>
<span class="n">plt</span><span class="o">.</span><span class="n">xlabel</span><span class="p">(</span><span class="s1">&#39;xlabel&#39;</span><span class="p">,</span> <span class="n">fontsize</span><span class="o">=</span><span class="mi">18</span><span class="p">)</span>
<span class="n">plt</span><span class="o">.</span><span class="n">ylabel</span><span class="p">(</span><span class="s1">&#39;ylabel&#39;</span><span class="p">,</span> <span class="n">fontsize</span><span class="o">=</span><span class="mi">16</span><span class="p">)</span>
<span class="n">plt</span><span class="o">.</span><span class="n">plot</span><span class="p">(</span><span class="n">x</span><span class="p">,</span><span class="n">y</span><span class="p">)</span> <span class="c1"># plot y vs x</span>
</pre></div>

    </div>
</div>
</div>

<div class="output_wrapper">
<div class="output">


<div class="output_area">

    <div class="prompt output_prompt">Out[75]:</div>




<div class="output_text output_subarea output_execute_result">
<pre>[&lt;matplotlib.lines.Line2D at 0x111b8c898&gt;]</pre>
</div>

</div>

<div class="output_area">

    <div class="prompt"></div>




<div class="output_png output_subarea ">
<img src="data:image/png;base64,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
"
>
</div>

</div>

</div>
</div>

</div></div></section></section><section><section>
<div class="cell border-box-sizing text_cell rendered"><div class="prompt input_prompt">
</div><div class="inner_cell">
<div class="text_cell_render border-box-sizing rendered_html">
<p>you can plot multiple curves</p>

</div>
</div>
</div><div class="fragment">
<div class="cell border-box-sizing code_cell rendered">
<div class="input">
<div class="prompt input_prompt">In&nbsp;[76]:</div>
<div class="inner_cell">
    <div class="input_area">
<div class=" highlight hl-ipython3"><pre><span></span><span class="o">%</span><span class="k">matplotlib</span> inline
<span class="kn">import</span> <span class="nn">matplotlib.pyplot</span> <span class="k">as</span> <span class="nn">plt</span> <span class="c1"># pyplot is the standard plotting library in matplotlib</span>
<span class="kn">import</span> <span class="nn">numpy</span> <span class="k">as</span> <span class="nn">np</span>
<span class="n">x</span> <span class="o">=</span> <span class="n">np</span><span class="o">.</span><span class="n">linspace</span><span class="p">(</span><span class="o">-</span><span class="mi">1</span><span class="p">,</span><span class="mi">1</span><span class="p">,</span><span class="mi">200</span><span class="p">)</span> <span class="c1"># create 200 equally spaced points between -1 and 1</span>
<span class="n">y</span> <span class="o">=</span> <span class="n">np</span><span class="o">.</span><span class="n">exp</span><span class="p">(</span><span class="o">-</span><span class="n">x</span><span class="o">**</span><span class="mi">2</span><span class="o">/</span><span class="mf">0.01</span><span class="p">)</span> <span class="c1"># gaussian</span>
<span class="n">y2</span> <span class="o">=</span> <span class="n">np</span><span class="o">.</span><span class="n">exp</span><span class="p">(</span><span class="o">-</span><span class="n">x</span><span class="o">**</span><span class="mi">2</span><span class="o">/</span><span class="mf">0.1</span><span class="p">)</span>
<span class="n">plt</span><span class="o">.</span><span class="n">title</span><span class="p">(</span><span class="s1">&#39;Gaussians&#39;</span><span class="p">)</span>
<span class="n">plt</span><span class="o">.</span><span class="n">xlabel</span><span class="p">(</span><span class="s1">&#39;position&#39;</span><span class="p">,</span> <span class="n">fontsize</span><span class="o">=</span><span class="mi">18</span><span class="p">)</span>
<span class="n">plt</span><span class="o">.</span><span class="n">ylabel</span><span class="p">(</span><span class="s1">&#39;value&#39;</span><span class="p">,</span> <span class="n">fontsize</span><span class="o">=</span><span class="mi">16</span><span class="p">)</span>
<span class="n">plt</span><span class="o">.</span><span class="n">plot</span><span class="p">(</span><span class="n">x</span><span class="p">,</span><span class="n">y</span><span class="p">,</span><span class="n">x</span><span class="p">,</span><span class="n">y2</span><span class="p">)</span> <span class="c1"># plot y vs x and y2 vs x</span>
</pre></div>

    </div>
</div>
</div>

<div class="output_wrapper">
<div class="output">


<div class="output_area">

    <div class="prompt output_prompt">Out[76]:</div>




<div class="output_text output_subarea output_execute_result">
<pre>[&lt;matplotlib.lines.Line2D at 0x111baa710&gt;,
 &lt;matplotlib.lines.Line2D at 0x11559b1d0&gt;]</pre>
</div>

</div>

<div class="output_area">

    <div class="prompt"></div>




<div class="output_png output_subarea ">
<img src="data:image/png;base64,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
"
>
</div>

</div>

</div>
</div>

</div></div></section></section><section><section>
<div class="cell border-box-sizing text_cell rendered"><div class="prompt input_prompt">
</div><div class="inner_cell">
<div class="text_cell_render border-box-sizing rendered_html">
<p>you can also add markers and line styles</p>

</div>
</div>
</div><div class="fragment">
<div class="cell border-box-sizing code_cell rendered">
<div class="input">
<div class="prompt input_prompt">In&nbsp;[77]:</div>
<div class="inner_cell">
    <div class="input_area">
<div class=" highlight hl-ipython3"><pre><span></span><span class="o">%</span><span class="k">matplotlib</span> inline
<span class="kn">import</span> <span class="nn">matplotlib.pyplot</span> <span class="k">as</span> <span class="nn">plt</span> <span class="c1"># pyplot is the standard plotting library in matplotlib</span>
<span class="kn">import</span> <span class="nn">numpy</span> <span class="k">as</span> <span class="nn">np</span>
<span class="n">x</span> <span class="o">=</span> <span class="n">np</span><span class="o">.</span><span class="n">linspace</span><span class="p">(</span><span class="o">-</span><span class="mi">1</span><span class="p">,</span><span class="mi">1</span><span class="p">,</span><span class="mi">200</span><span class="p">)</span> <span class="c1"># create 200 equally spaced points between -1 and 1</span>
<span class="n">y</span> <span class="o">=</span> <span class="n">np</span><span class="o">.</span><span class="n">exp</span><span class="p">(</span><span class="o">-</span><span class="n">x</span><span class="o">**</span><span class="mi">2</span><span class="o">/</span><span class="mf">0.01</span><span class="p">)</span> <span class="c1"># gaussian</span>
<span class="n">y2</span> <span class="o">=</span> <span class="n">np</span><span class="o">.</span><span class="n">exp</span><span class="p">(</span><span class="o">-</span><span class="n">x</span><span class="o">**</span><span class="mi">2</span><span class="o">/</span><span class="mf">0.1</span><span class="p">)</span>
<span class="n">plt</span><span class="o">.</span><span class="n">title</span><span class="p">(</span><span class="s1">&#39;Gaussians&#39;</span><span class="p">)</span>
<span class="n">plt</span><span class="o">.</span><span class="n">xlabel</span><span class="p">(</span><span class="s1">&#39;position&#39;</span><span class="p">,</span> <span class="n">fontsize</span><span class="o">=</span><span class="mi">18</span><span class="p">)</span>
<span class="n">plt</span><span class="o">.</span><span class="n">ylabel</span><span class="p">(</span><span class="s1">&#39;value&#39;</span><span class="p">,</span> <span class="n">fontsize</span><span class="o">=</span><span class="mi">16</span><span class="p">)</span>
<span class="n">plt</span><span class="o">.</span><span class="n">plot</span><span class="p">(</span><span class="n">x</span><span class="p">,</span><span class="n">y</span><span class="p">,</span><span class="s1">&#39;r-*&#39;</span><span class="p">,</span><span class="n">x</span><span class="p">,</span><span class="n">y2</span><span class="p">,</span><span class="s1">&#39;b-.o&#39;</span><span class="p">)</span> <span class="c1"># plot y vs x and y2 vs x</span>
</pre></div>

    </div>
</div>
</div>

<div class="output_wrapper">
<div class="output">


<div class="output_area">

    <div class="prompt output_prompt">Out[77]:</div>




<div class="output_text output_subarea output_execute_result">
<pre>[&lt;matplotlib.lines.Line2D at 0x115569b70&gt;,
 &lt;matplotlib.lines.Line2D at 0x1156d0438&gt;]</pre>
</div>

</div>

<div class="output_area">

    <div class="prompt"></div>




<div class="output_png output_subarea ">
<img src="data:image/png;base64,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
"
>
</div>

</div>

</div>
</div>

</div></div></section></section>
  </div>
  </div>

 



  <script data-cfasync="false" src="/cdn-cgi/scripts/5c5dd728/cloudflare-static/email-decode.min.js"></script><script>
    require(
      {
        // required because reveal is IO bound
        waitSeconds: 0
      },
      [
        "/static/components/reveal.js/lib/js/head.min.js?v=8244e91e3efc1ad6285d9beb8125fe4b",
        "/static/components/reveal.js/js/reveal.js?v=58218d1408d83529c1f9a9c191ec62fd"
      ],
      function(head, Reveal){
        // Full list of configuration options available here: https://github.com/hakimel/reveal.js#configuration
        Reveal.initialize({
          controls: true,
          progress: true,
          history: true,

          slideNumber: true,

          // available themes are in /css/theme
          theme: Reveal.getQueryHash().theme || 'simple',

          // default/cube/page/concave/zoom/linear/none
          transition: Reveal.getQueryHash().transition || 'linear',

          // Optional libraries used to extend on reveal.js
          dependencies: [
            {
              src: "/static/components/reveal.js/lib/js/classList.js?v=daeaae1afb79c4577c26fc099228cb44 ",
              condition: function() { return !document.body.classList; }
            },
            {
              src: "/static/components/reveal.js/plugin/notes/notes.js?v=5eeb10ccb01e878585e08231da90819f",
              async: true,
              condition: function() { return !!document.body.classList; }
            }
          ]
        });

        var update = function(event){
          window.scrollTo(0,0);
          if(MathJax.Hub.getAllJax(Reveal.getCurrentSlide())){
            MathJax.Hub.Rerender(Reveal.getCurrentSlide());
          }
          var idx = Reveal.getIndices();
          $('#menubar').headroom((!idx.h && !idx.v) ? 'pin' : 'unpin');
        };

        // show/hide the nbviewer header on slide change
        Reveal.addEventListener('slidechanged', update);

      }
    );//require
  </script>



  
    <footer class="footer hidden-print">
      <div class="container">
        <div class="col-md-4">
          <p>
            This website does not host notebooks, it only renders notebooks
            available on other websites.
          </p>
        </div>

        <div class="col-md-4">
          <p>
            Delivered by <a href="https://www.fastly.com/">Fastly</a>,
            Rendered by <a href="https://developer.rackspace.com/?nbviewer=awesome">Rackspace</a>
          </p>
          <p>
            nbviewer GitHub <a href="https://github.com/jupyter/nbviewer">repository</a>.
          </p>
        </div>

        <div class="col-md-4">
          
  
            
              <p>
                nbviewer version:
                <a href="https://github.com/jupyter/nbviewer/commit/07b0e305b3254e2280b29f20ceb96c058db2f775">
                  07b0e30
                </a>
              </p>
            
          
  
  <p>
    nbconvert version: <a href="https://github.com/jupyter/nbconvert/releases/tag/5.6.0">
      5.6.0
    </a>
  </p>
  

          
  
  
  <p>
    Rendered
    <span class='date' data-date='Thu, 16 Jan 2020 03:35:59 UTC' title='Thu, 16 Jan 2020 03:35:59 UTC'>(Thu, 16 Jan 2020 03:35:59 UTC)</span>
  </p>
  

        </div>
      </div>
    </footer>
  

  <script src="/static/components/bootstrap/js/bootstrap.min.js?v=5869c96cc8f19086aee625d670d741f9"></script>
  <script src="/static/components/headroom.js/dist/headroom.min.js?v=b0a311ea668f8e768ea375f4a7abb81c"></script>
  <script src="/static/components/headroom.js/dist/jQuery.headroom.min.js?v=f3a1bae118315d0c234afc74dc6aab71"></script>

  
  
  <script>
    $(function(){ $("#menubar").headroom({
      tolerance: 5,
      offset: 205,
      classes: {
        initial: "animated",
        pinned: "slideInDown",
        unpinned: "slideOutUp"
      }
    })});
  </script>


  
  <script>
    (function(i,s,o,g,r,a,m){i['GoogleAnalyticsObject']=r;i[r]=i[r]||function(){
      (i[r].q=i[r].q||[]).push(arguments)},i[r].l=1*new Date();a=s.createElement(o),
      m=s.getElementsByTagName(o)[0];a.async=1;a.src=g;m.parentNode.insertBefore(a,m)
    })(window,document,'script','https://www.google-analytics.com/analytics.js','ga');
    ga('create', 'UA-52617120-5', 'auto',
       {'storage': 'none'});
    ga('set', 'anonymizeIp', true);
    ga('send', 'pageview');
  </script>
  
  <script>
    require({
        paths: {
          moment: "/static/components/moment/min/moment.min.js?v=89f87298ad94aa1e6b92f42eb66da043"
        }
      }, ["moment"], function(moment){
      var date = $("footer .date"),
        m = moment(new Date(date.data('date'))),
        update = function(){ date.text(m.fromNow()); };
      setInterval(update, 61*1000);
      update();
      var w = $(window).scroll(function(event){
        $("body").toggleClass("scrolled", w.scrollTop() > 0);
      });
    });
  </script>

  <!--NEW RELIC Stop Perf Measurement-->
  
  <!--NEW RELIC End-->
</body>
</html>